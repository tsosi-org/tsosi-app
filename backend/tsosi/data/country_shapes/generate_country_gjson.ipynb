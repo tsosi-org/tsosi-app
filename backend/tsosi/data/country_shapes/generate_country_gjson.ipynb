{
 "cells": [
  {
   "cell_type": "markdown",
   "metadata": {},
   "source": [
    "This scripts generate a GeoJSON file with the geometries of every countries.\n",
    "\n",
    "It takes a base GeoJSON file downloaded from https://geojson-maps.kyd.au/ and merge all entries corresponding to the same country.\n"
   ]
  },
  {
   "cell_type": "code",
   "execution_count": 5,
   "metadata": {},
   "outputs": [],
   "source": [
    "import pandas as pd\n",
    "import json\n",
    "\n",
    "# data from https://geojson-maps.kyd.au/\n",
    "file = \"country_10m.json\"\n",
    "output_file = \"processed_countries_10m.json\"\n",
    "\n",
    "df = pd.read_json(file)\n",
    "\n",
    "alt_df = pd.json_normalize(df[\"features\"], max_level=0)\n",
    "\n",
    "geometry = pd.json_normalize(alt_df[\"geometry\"], max_level=0).rename(\n",
    "    columns={\"type\": \"geometry_type\"}\n",
    ")\n",
    "prop = pd.json_normalize(alt_df[\"properties\"])\n",
    "# prop.columns\n",
    "# prop[[\"iso_a2\"]].drop_duplicates()\n",
    "# df"
   ]
  },
  {
   "cell_type": "code",
   "execution_count": 6,
   "metadata": {},
   "outputs": [],
   "source": [
    "data_df = pd.concat(\n",
    "    [\n",
    "        alt_df,\n",
    "        prop[[\"iso_a2\"]],\n",
    "        geometry[[\"geometry_type\", \"coordinates\"]],\n",
    "    ],\n",
    "    axis=1,\n",
    ")\n",
    "\n",
    "\n",
    "def merge_geometries(group) -> tuple[str, list]:\n",
    "    concat_coord = []\n",
    "    if len(group) == 1:\n",
    "        geom_type = group.iloc[0][\"geometry_type\"]\n",
    "        coordinates = group.iloc[0][\"coordinates\"]\n",
    "        return {\"geometry_type\": geom_type, \"coordinates\": coordinates}\n",
    "\n",
    "    for _, row in group.iterrows():\n",
    "        geom_type = row[\"geometry_type\"]\n",
    "        coordinates = row[\"coordinates\"]\n",
    "        if geom_type == \"MultiPolygon\":\n",
    "            concat_coord += coordinates\n",
    "        elif geom_type == \"Polygon\":\n",
    "            concat_coord.append(coordinates)\n",
    "        else:\n",
    "            raise Exception(f\"Unhandled geometry type: {geom_type}\")\n",
    "\n",
    "    return {\"geometry_type\": \"MultiPolygon\", \"coordinates\": concat_coord}\n",
    "\n",
    "\n",
    "res = []\n",
    "for name, group in data_df.groupby(\"iso_a2\"):\n",
    "    temp = merge_geometries(group)\n",
    "    temp[\"iso_a2\"] = name\n",
    "    res.append(temp)\n",
    "res = pd.DataFrame.from_records(res)\n",
    "res[\"properties\"] = res[\"iso_a2\"].apply(lambda x: {\"iso_a2\": x})\n",
    "res[\"geometry\"] = res.apply(\n",
    "    lambda x: {\"type\": x[\"geometry_type\"], \"coordinates\": x[\"coordinates\"]},\n",
    "    axis=1,\n",
    ")\n",
    "res[\"feature\"] = res.apply(\n",
    "    lambda x: {\n",
    "        \"type\": \"Feature\",\n",
    "        \"properties\": x[\"properties\"],\n",
    "        \"geometry\": x[\"geometry\"],\n",
    "    },\n",
    "    axis=1,\n",
    ")\n",
    "\n",
    "new_geojson = {\n",
    "    \"type\": \"FeatureCollection\",\n",
    "    \"features\": res[\"feature\"].to_list(),\n",
    "}\n",
    "new_geojson\n",
    "with open(output_file, \"w\") as f:\n",
    "    json.dump(new_geojson, f, indent=2)"
   ]
  }
 ],
 "metadata": {
  "kernelspec": {
   "display_name": ".venv",
   "language": "python",
   "name": "python3"
  },
  "language_info": {
   "codemirror_mode": {
    "name": "ipython",
    "version": 3
   },
   "file_extension": ".py",
   "mimetype": "text/x-python",
   "name": "python",
   "nbconvert_exporter": "python",
   "pygments_lexer": "ipython3",
   "version": "3.12.3"
  }
 },
 "nbformat": 4,
 "nbformat_minor": 2
}
