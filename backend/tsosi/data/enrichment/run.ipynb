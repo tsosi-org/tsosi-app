{
 "cells": [
  {
   "cell_type": "code",
   "execution_count": null,
   "id": "d5bee552",
   "metadata": {},
   "outputs": [],
   "source": [
    "from pathlib import Path\n",
    "import pandas as pd\n",
    "import os\n",
    "import sys\n",
    "import django\n",
    "from IPython.display import display\n",
    "from asgiref.sync import sync_to_async\n",
    "\n",
    "# Add the parent directory to the system path and setup django\n",
    "BASE_DIR = str(Path(os.getcwd()).resolve().parent.parent.parent)\n",
    "\n",
    "if BASE_DIR not in sys.path:\n",
    "    sys.path.append(BASE_DIR)\n",
    "\n",
    "os.environ.setdefault(\"DJANGO_SETTINGS_MODULE\", \"backend_site.settings\")\n",
    "\n",
    "django.setup()\n",
    "\n",
    "from tsosi.data.enrichment.database_related import update_entity_names\n",
    "\n",
    "\n",
    "@sync_to_async\n",
    "def to_run():\n",
    "    return update_entity_names()\n",
    "\n",
    "\n",
    "res = await to_run()"
   ]
  }
 ],
 "metadata": {
  "kernelspec": {
   "display_name": "tsosi-backend-py3.12",
   "language": "python",
   "name": "python3"
  },
  "language_info": {
   "codemirror_mode": {
    "name": "ipython",
    "version": 3
   },
   "file_extension": ".py",
   "mimetype": "text/x-python",
   "name": "python",
   "nbconvert_exporter": "python",
   "pygments_lexer": "ipython3",
   "version": "3.12.10"
  }
 },
 "nbformat": 4,
 "nbformat_minor": 5
}
