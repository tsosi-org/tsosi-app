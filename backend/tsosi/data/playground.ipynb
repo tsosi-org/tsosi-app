{
  "cells": [
    {
      "cell_type": "markdown",
      "metadata": {},
      "source": [
        "### DEV\n"
      ]
    },
    {
      "cell_type": "code",
      "execution_count": null,
      "metadata": {},
      "outputs": [],
      "source": [
        "from pathlib import Path\n",
        "import sys\n",
        "import os\n",
        "import django\n",
        "import pandas as pd\n",
        "from asgiref.sync import sync_to_async\n",
        "\n",
        "# Add the parent directory to the system path and setup django\n",
        "BASE_DIR = str(Path(os.getcwd()).resolve().parent.parent)\n",
        "\n",
        "if BASE_DIR not in sys.path:\n",
        "    sys.path.append(BASE_DIR)\n",
        "\n",
        "os.environ.setdefault(\"DJANGO_SETTINGS_MODULE\", \"backend_site.settings\")\n",
        "\n",
        "django.setup()\n",
        "\n",
        "from tsosi.models import Entity, Transfer\n",
        "from tsosi.data.enrichment.database_related import (\n",
        "    entities_with_identifier_data,\n",
        "    update_entity_from_pid_records,\n",
        "    new_identifiers_from_records,\n",
        ")\n",
        "from tsosi.data.enrichment.api_related import fetch_empty_identifier_records\n",
        "from tsosi.models.static_data import fill_static_data\n",
        "from django.utils import timezone\n",
        "from django.db.models import Q\n",
        "\n",
        "\n",
        "@sync_to_async\n",
        "def run():\n",
        "    # fill_static_data()\n",
        "    fetch_empty_identifier_records(\"ror\")\n",
        "    fetch_empty_identifier_records(\"wikidata\")\n",
        "    update_entity_from_pid_records()\n",
        "    df = new_identifiers_from_records()\n",
        "    df = entities_with_identifier_data()\n",
        "    return df\n",
        "\n",
        "\n",
        "res = await run()"
      ]
    },
    {
      "cell_type": "code",
      "execution_count": null,
      "metadata": {},
      "outputs": [],
      "source": [
        "res.sort_values(\"id\")[\n",
        "    [\n",
        "        \"id\",\n",
        "        \"name\",\n",
        "        \"country\",\n",
        "        \"ror_id\",\n",
        "        \"ror_wikidata_id\",\n",
        "        \"ror_name\",\n",
        "        \"wikidata_id\",\n",
        "        \"wikidata_name\",\n",
        "        \"wikidata_ror_id\",\n",
        "    ]\n",
        "]"
      ]
    },
    {
      "cell_type": "code",
      "execution_count": null,
      "metadata": {},
      "outputs": [],
      "source": [
        "from pycountry import countries\n",
        "\n",
        "d = (\n",
        "    res.groupby(\"country\")\n",
        "    .count()\n",
        "    .reset_index()\n",
        "    .sort_values(\"id\", ascending=False)\n",
        ")\n",
        "mapping = {c.alpha_2: c.name for c in countries}\n",
        "d[\"country_name\"] = d[\"country\"].map(mapping)\n",
        "d.rename(columns={\"country\": \"country_code\", \"id\": \"number\"}, inplace=True)\n",
        "\n",
        "\n",
        "categories = [(50, \"Upper\"), (10, \"Medium\"), (0, \"Lower\")]\n",
        "\n",
        "for c_threshold, c_name in sorted(categories, key=lambda x: x[0]):\n",
        "    mask = d[\"number\"] >= c_threshold\n",
        "    d.loc[mask, \"category\"] = c_name\n",
        "\n",
        "d[[\"country_name\", \"country_code\", \"number\", \"category\"]].to_excel(\n",
        "    \"supporters_extract.xlsx\", index=False\n",
        ")"
      ]
    },
    {
      "cell_type": "code",
      "execution_count": null,
      "metadata": {},
      "outputs": [],
      "source": [
        "sorted(categories, key=lambda x: x[0])"
      ]
    },
    {
      "cell_type": "code",
      "execution_count": null,
      "metadata": {},
      "outputs": [],
      "source": [
        "from fontTools.ttLib.woff2 import compress\n",
        "from pathlib import Path\n",
        "import re\n",
        "\n",
        "font_directory = Path.home() / \"Documents/TSOSI/Graphisme/Mont/Mont\"\n",
        "otf_files = font_directory.glob(\"*.otf\")\n",
        "save_directory = Path.home() / \"Documents/TSOSI/Fonts/Mont\"\n",
        "\n",
        "for file in otf_files:\n",
        "    file_path_usefull = re.match(r\".*(Mont[^\\.]+)\", file.name)\n",
        "    save_path = (\n",
        "        str(save_directory / file_path_usefull[1]).replace(\" \", \"_\") + \".woff2\"\n",
        "    )\n",
        "    compress(str(file), str(save_path))"
      ]
    },
    {
      "cell_type": "code",
      "execution_count": null,
      "metadata": {},
      "outputs": [],
      "source": [
        "import requests\n",
        "\n",
        "query_base = \"\"\"\n",
        "SELECT\n",
        "    ?item\n",
        "    ?itemLabel\n",
        "    ?itemDescription\n",
        "    ?countryIsoCode\n",
        "    ?logoUrl\n",
        "    ?websiteUrl\n",
        "    ?rorId\n",
        "    ?wikipediaUrl\n",
        "    ?coordinates\n",
        "    ?inceptionDate\n",
        "    ?statementCount\n",
        "WHERE {{\n",
        "    VALUES ?item {{ {ids_part} }}\n",
        "    OPTIONAL {{ ?item wdt:P571 ?inceptionDate. }}\n",
        "    OPTIONAL {{ ?item (wdt:P17/wdt:P297) ?countryIsoCode. }}\n",
        "    OPTIONAL {{ ?item wdt:P154 ?logoUrl. }}\n",
        "    OPTIONAL {{ ?item wdt:P856 ?websiteUrl. }}\n",
        "    OPTIONAL {{ ?item wdt:P6782 ?rorId. }}\n",
        "    OPTIONAL {{ ?item wdt:P625 ?coordinates. }}\n",
        "    OPTIONAL {{ ?item wikibase:statements ?statementCount. }}\n",
        "    OPTIONAL {{\n",
        "        ?wikipediaUrl rdf:type schema:Article;\n",
        "        schema:about ?item;\n",
        "        schema:inLanguage \"en\";\n",
        "        schema:isPartOf <https://en.wikipedia.org/>.\n",
        "    }}\n",
        "    SERVICE wikibase:label {{\n",
        "        bd:serviceParam wikibase:language \"[AUTO_LANGUAGE],en\".\n",
        "    }}\n",
        "}}\n",
        "\"\"\"\n",
        "\n",
        "ids = [\"Q215432154632121\", \"QNOT_EXISTING\"]\n",
        "query = query_base.format(ids_part=\"\\n\\t\\t\".join([f\"wd:{id}\" for id in ids]))\n",
        "params = {\"query\": query, \"format\": \"json\"}\n",
        "\n",
        "resp = requests.post(\"https://query.wikidata.org/sparql\", params=params)\n",
        "resp.json()[\"results\"][\"bindings\"]"
      ]
    },
    {
      "cell_type": "code",
      "execution_count": null,
      "metadata": {},
      "outputs": [],
      "source": [
        "import pandas as pd\n",
        "\n",
        "df = pd.DataFrame()\n",
        "# We only want wikipedia extract for entities with URL to the english wiki\n",
        "mask = df[\"wikipedia_url\"].str.startswith(\"https://en.wikipedia.org\")\n",
        "df[mask].reset_index(drop=True)"
      ]
    }
  ],
  "metadata": {
    "kernelspec": {
      "display_name": "Python 3",
      "language": "python",
      "name": "python3"
    },
    "language_info": {
      "codemirror_mode": {
        "name": "ipython",
        "version": 3
      },
      "file_extension": ".py",
      "mimetype": "text/x-python",
      "name": "python",
      "nbconvert_exporter": "python",
      "pygments_lexer": "ipython3",
      "version": "3.12.3"
    }
  },
  "nbformat": 4,
  "nbformat_minor": 2
}
