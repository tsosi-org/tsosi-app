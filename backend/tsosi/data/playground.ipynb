{
 "cells": [
  {
   "cell_type": "markdown",
   "metadata": {},
   "source": [
    "### Export TSOSI data file\n"
   ]
  },
  {
   "cell_type": "code",
   "execution_count": null,
   "metadata": {},
   "outputs": [],
   "source": [
    "from pathlib import Path\n",
    "import sys\n",
    "import os\n",
    "import django\n",
    "\n",
    "# Add the parent directory to the system path and setup django\n",
    "BASE_DIR = str(Path(os.getcwd()).resolve().parent.parent)\n",
    "\n",
    "if BASE_DIR not in sys.path:\n",
    "    sys.path.append(BASE_DIR)\n",
    "\n",
    "os.environ.setdefault(\"DJANGO_SETTINGS_MODULE\", \"backend_site.settings\")\n",
    "\n",
    "django.setup()\n",
    "\n",
    "from tsosi.data.preparation.doaj.publishers_202X import (\n",
    "    get_config as doaj_publisher_config,\n",
    ")\n",
    "from tsosi.data.preparation.doaj.libraries_2024_now import (\n",
    "    get_config as doaj_library_2024_config,\n",
    "    get_fixture_config as doaj_library_fixture_2024_config,\n",
    ")\n",
    "from tsosi.data.preparation.doaj.libraries_2023 import (\n",
    "    get_config as doaj_library_2023_config,\n",
    ")\n",
    "from tsosi.data.preparation.doaj.libraries_2021_2022 import (\n",
    "    get_config as doaj_library_2021_2022_config,\n",
    ")\n",
    "\n",
    "year = 2024\n",
    "file_path = (\n",
    "    Path.home()\n",
    "    / \"Nextcloud/TSOSI_data/doaj/4_prepared/2025-01-07-DOAJ_Publisher_Report_2024_prepared.xlsx\"\n",
    ")\n",
    "file_path = f\"{BASE_DIR}/tsosi/data/fixtures/doaj_example.json\"\n",
    "sheet_name = \"Sheet1\"\n",
    "config = doaj_library_fixture_2024_config(year, str(file_path))\n",
    "config.get_data()\n",
    "# config = doaj_library_2023_config(file_path, sheet_name)\n",
    "config.generate_data_file()"
   ]
  },
  {
   "cell_type": "markdown",
   "metadata": {},
   "source": [
    "### DEV\n"
   ]
  },
  {
   "cell_type": "code",
   "execution_count": null,
   "metadata": {},
   "outputs": [],
   "source": [
    "from pathlib import Path\n",
    "import sys\n",
    "import os\n",
    "import django\n",
    "import pandas as pd\n",
    "from asgiref.sync import sync_to_async\n",
    "\n",
    "# Add the parent directory to the system path and setup django\n",
    "BASE_DIR = str(Path(os.getcwd()).resolve().parent.parent)\n",
    "\n",
    "if BASE_DIR not in sys.path:\n",
    "    sys.path.append(BASE_DIR)\n",
    "\n",
    "os.environ.setdefault(\"DJANGO_SETTINGS_MODULE\", \"backend_site.settings\")\n",
    "\n",
    "django.setup()\n",
    "\n",
    "from tsosi.data.enrichment import entities_with_identifier_data\n",
    "\n",
    "\n",
    "@sync_to_async\n",
    "def run():\n",
    "\n",
    "    df = entities_with_identifier_data()\n",
    "\n",
    "    return df\n",
    "\n",
    "\n",
    "res = await run()"
   ]
  },
  {
   "cell_type": "code",
   "execution_count": null,
   "metadata": {},
   "outputs": [],
   "source": [
    "res[~res[\"ror_date_inception\"].isna()][\"wikidata_date_inception\"]"
   ]
  },
  {
   "cell_type": "code",
   "execution_count": null,
   "metadata": {},
   "outputs": [],
   "source": [
    "from fontTools.ttLib.woff2 import compress\n",
    "from pathlib import Path\n",
    "import re\n",
    "\n",
    "font_directory = Path.home() / \"Documents/TSOSI/Graphisme/Mont/Mont\"\n",
    "otf_files = font_directory.glob(\"*.otf\")\n",
    "save_directory = Path.home() / \"Documents/TSOSI/Fonts/Mont\"\n",
    "\n",
    "for file in otf_files:\n",
    "    file_path_usefull = re.match(r\".*(Mont[^\\.]+)\", file.name)\n",
    "    save_path = (\n",
    "        str(save_directory / file_path_usefull[1]).replace(\" \", \"_\") + \".woff2\"\n",
    "    )\n",
    "    compress(str(file), str(save_path))"
   ]
  }
 ],
 "metadata": {
  "kernelspec": {
   "display_name": ".venv",
   "language": "python",
   "name": "python3"
  },
  "language_info": {
   "codemirror_mode": {
    "name": "ipython",
    "version": 3
   },
   "file_extension": ".py",
   "mimetype": "text/x-python",
   "name": "python",
   "nbconvert_exporter": "python",
   "pygments_lexer": "ipython3",
   "version": "3.12.3"
  }
 },
 "nbformat": 4,
 "nbformat_minor": 2
}
