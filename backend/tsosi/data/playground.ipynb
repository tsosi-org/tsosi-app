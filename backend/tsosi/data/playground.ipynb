{
 "cells": [
  {
   "cell_type": "markdown",
   "metadata": {},
   "source": [
    "### Export TSOSI data file\n"
   ]
  },
  {
   "cell_type": "code",
   "execution_count": null,
   "metadata": {},
   "outputs": [],
   "source": [
    "from pathlib import Path\n",
    "import sys\n",
    "import os\n",
    "import django\n",
    "\n",
    "# Add the parent directory to the system path and setup django\n",
    "BASE_DIR = str(Path(os.getcwd()).resolve().parent.parent)\n",
    "\n",
    "if BASE_DIR not in sys.path:\n",
    "    sys.path.append(BASE_DIR)\n",
    "\n",
    "os.environ.setdefault(\"DJANGO_SETTINGS_MODULE\", \"backend_site.settings\")\n",
    "\n",
    "django.setup()\n",
    "\n",
    "from tsosi.data.preparation.doaj.publishers_202X import (\n",
    "    get_config as doaj_publisher_config,\n",
    ")\n",
    "from tsosi.data.preparation.doaj.libraries_2024_now import (\n",
    "    get_config as doaj_library_2024_config,\n",
    ")\n",
    "from tsosi.data.preparation.doaj.libraries_2023 import (\n",
    "    get_config as doaj_library_2023_config,\n",
    ")\n",
    "from tsosi.data.preparation.doaj.libraries_2021_2022 import (\n",
    "    get_config as doaj_library_2021_2022_config,\n",
    ")\n",
    "\n",
    "year = 2024\n",
    "file_path = \"/home/guillaume-alzieu/Dev/TSOSI/TSOSI_data/doaj/4_prepared/2025-01-07-DOAJ_Publisher_Report_2024_prepared.xlsx\"\n",
    "sheet_name = \"Sheet1\"\n",
    "config = doaj_publisher_config(year, file_path, sheet_name)\n",
    "# config = doaj_library_2023_config(file_path, sheet_name)\n",
    "config.generate_data_file()"
   ]
  },
  {
   "cell_type": "markdown",
   "metadata": {},
   "source": [
    "### Prepare raw data for manual matching\n"
   ]
  },
  {
   "cell_type": "code",
   "execution_count": null,
   "metadata": {},
   "outputs": [],
   "source": [
    "from pathlib import Path\n",
    "import sys\n",
    "import os\n",
    "import django\n",
    "import pandas as pd\n",
    "from asgiref.sync import sync_to_async\n",
    "\n",
    "# Add the parent directory to the system path and setup django\n",
    "BASE_DIR = str(Path(os.getcwd()).resolve().parent.parent)\n",
    "\n",
    "if BASE_DIR not in sys.path:\n",
    "    sys.path.append(BASE_DIR)\n",
    "\n",
    "os.environ.setdefault(\"DJANGO_SETTINGS_MODULE\", \"backend_site.settings\")\n",
    "\n",
    "django.setup()\n",
    "\n",
    "from tsosi.data.pid_matching import prepare_manual_matching\n",
    "\n",
    "\n",
    "file_name = \"2023-11-27-DOAB_Library_Report_2023.xlsx\"\n",
    "file_folder = \"/home/guillaume-alzieu/Dev/TSOSI/TSOSI_data/doab/1_raw/\"\n",
    "sheet = \"Sheet1\"\n",
    "name_column = \"Institution\"\n",
    "country_colum = \"Country\"\n",
    "\n",
    "\n",
    "@sync_to_async\n",
    "def to_run():\n",
    "    xls = pd.ExcelFile(f\"{file_folder}{file_name}\")\n",
    "    data = pd.read_excel(xls, sheet)\n",
    "    return prepare_manual_matching(\n",
    "        data, name_column, country_column=country_colum\n",
    "    )\n",
    "\n",
    "\n",
    "res = await to_run()"
   ]
  },
  {
   "cell_type": "code",
   "execution_count": null,
   "metadata": {},
   "outputs": [],
   "source": [
    "# Optional date cleaning to output dates instead of datetimes\n",
    "date_cols = [\n",
    "    \"Support Confirmation Date\",\n",
    "    \"Support Start Date\",\n",
    "    \"Support End Date\",\n",
    "]\n",
    "for d_col in date_cols:\n",
    "    res[d_col] = res[d_col].dt.date"
   ]
  },
  {
   "cell_type": "code",
   "execution_count": 5,
   "metadata": {},
   "outputs": [],
   "source": [
    "file_folder = \"/home/guillaume-alzieu/Dev/TSOSI/TSOSI_data/doab/2_matched/\"\n",
    "file_to_write = \"2023-11-27-DOAB_Library_Report_2023_matched.xlsx\"\n",
    "file_path = f\"{file_folder}{file_to_write}\"\n",
    "res.to_excel(file_path, index=False)"
   ]
  },
  {
   "cell_type": "code",
   "execution_count": null,
   "metadata": {},
   "outputs": [],
   "source": [
    "d = res.copy()\n",
    "d[d[\"_processed\"] != True]"
   ]
  },
  {
   "cell_type": "markdown",
   "metadata": {},
   "source": [
    "### Process enriched data\n"
   ]
  },
  {
   "cell_type": "code",
   "execution_count": null,
   "metadata": {},
   "outputs": [],
   "source": [
    "from pathlib import Path\n",
    "import sys\n",
    "import os\n",
    "import django\n",
    "import pandas as pd\n",
    "from asgiref.sync import sync_to_async\n",
    "\n",
    "# Add the parent directory to the system path and setup django\n",
    "BASE_DIR = str(Path(os.getcwd()).resolve().parent.parent)\n",
    "\n",
    "if BASE_DIR not in sys.path:\n",
    "    sys.path.append(BASE_DIR)\n",
    "\n",
    "os.environ.setdefault(\"DJANGO_SETTINGS_MODULE\", \"backend_site.settings\")\n",
    "\n",
    "django.setup()\n",
    "\n",
    "from tsosi.data.utils import clean_null_values\n",
    "from tsosi.data.preparation.cleaning_utils import clean_cell_value\n",
    "from tsosi.data.pid_matching import process_enriched_data\n",
    "from tsosi.models.transfert import (\n",
    "    TRANSFERT_ENTITY_TYPE_EMITTER,\n",
    "    TRANSFERT_ENTITY_TYPE_AGENT,\n",
    ")\n",
    "\n",
    "process_agents = True\n",
    "folder = \"/home/guillaume-alzieu/Dev/TSOSI/TSOSI_data/doaj\"\n",
    "file_base_name = \"2024-09-20-DOAJ_Library_Report_2023\"\n",
    "enriched_file_path = f\"{folder}/3_enriched/{file_base_name}_enriched_done.xlsx\"\n",
    "sheet_transferts = \"Transferts\"\n",
    "name_column = \"Institution name\"\n",
    "xls = pd.ExcelFile(enriched_file_path)\n",
    "\n",
    "data = pd.read_excel(xls, sheet_transferts)\n",
    "\n",
    "res = process_enriched_data(data, name_column, TRANSFERT_ENTITY_TYPE_EMITTER)\n",
    "\n",
    "if process_agents:\n",
    "    # Match agents data back to the transferts spreadsheet\n",
    "    print(\"Processing agents/consortiums data\")\n",
    "    sheet_agent = \"Consortiums\"\n",
    "    agent_col = \"agent/consortium\"\n",
    "    country_col = \"country\"\n",
    "    agents = pd.read_excel(xls, sheet_agent)\n",
    "    for col in [agent_col, country_col]:\n",
    "        res[col] = res[col].apply(clean_cell_value)\n",
    "        agents[col] = agents[col].apply(clean_cell_value)\n",
    "    clean_null_values(agents)\n",
    "    clean_null_values(res)\n",
    "    res = res.merge(agents, on=[agent_col, country_col], how=\"left\")\n",
    "    # Remove agents not in the agent spreadsheet (DOAJ mixed up consortium name and institution type)\n",
    "    wrong_agents = res[~res[agent_col].isin(agents[agent_col])]\n",
    "    res.loc[wrong_agents.index, agent_col] = None\n",
    "\n",
    "    # Process agents data enrichment\n",
    "    res = process_enriched_data(res, agent_col, TRANSFERT_ENTITY_TYPE_AGENT)\n",
    "clean_null_values(res)"
   ]
  },
  {
   "cell_type": "code",
   "execution_count": null,
   "metadata": {},
   "outputs": [],
   "source": [
    "res[res[\"Agent\"] == \"Baden-Wurttemberg\"]"
   ]
  },
  {
   "cell_type": "code",
   "execution_count": 3,
   "metadata": {},
   "outputs": [],
   "source": [
    "prepared_file_path = f\"{folder}/4_prepared/{file_base_name}_prepared.xlsx\"\n",
    "\n",
    "res.to_excel(prepared_file_path, sheet_name=\"Transferts\", index=False)"
   ]
  },
  {
   "cell_type": "code",
   "execution_count": null,
   "metadata": {},
   "outputs": [],
   "source": [
    "import pycountry\n",
    "\n",
    "{c.name: c for c in pycountry.countries}"
   ]
  },
  {
   "cell_type": "markdown",
   "metadata": {},
   "source": [
    "### Redis setup\n"
   ]
  },
  {
   "cell_type": "code",
   "execution_count": null,
   "metadata": {},
   "outputs": [],
   "source": [
    "from pathlib import Path\n",
    "import sys\n",
    "import os\n",
    "import django\n",
    "from asgiref.sync import sync_to_async\n",
    "\n",
    "# Add the parent directory to the system path and setup django\n",
    "BASE_DIR = str(Path(os.getcwd()).resolve().parent.parent)\n",
    "\n",
    "if BASE_DIR not in sys.path:\n",
    "    sys.path.append(BASE_DIR)\n",
    "\n",
    "os.environ.setdefault(\"DJANGO_SETTINGS_MODULE\", \"backend_site.settings\")\n",
    "\n",
    "django.setup()\n",
    "\n",
    "# from tsosi.data.token_bucket import ror_token_bucket as bucket\n",
    "from tsosi.data.token_bucket import (\n",
    "    WIKIPEDIA_TOKEN_BUCKET as bucket,\n",
    "    REDIS_CLIENT,\n",
    ")\n",
    "\n",
    "\n",
    "async def to_run():\n",
    "    tokens = bucket.consume(80)\n",
    "\n",
    "    return tokens\n",
    "\n",
    "\n",
    "res = await to_run()"
   ]
  },
  {
   "cell_type": "code",
   "execution_count": null,
   "metadata": {},
   "outputs": [],
   "source": [
    "from pycountry import countries\n",
    "\n",
    "\n",
    "res = countries.search_fuzzy(\"Guadeloupe\")\n",
    "res"
   ]
  },
  {
   "cell_type": "markdown",
   "metadata": {},
   "source": [
    "### Extract agents/consortiums\n"
   ]
  },
  {
   "cell_type": "code",
   "execution_count": null,
   "metadata": {},
   "outputs": [],
   "source": [
    "import pandas as pd\n",
    "import re\n",
    "import numpy as np\n",
    "\n",
    "folder = \"/home/guillaume-alzieu/Dev/TSOSI/TSOSI_data/doab/1_raw\"\n",
    "file_name = \"2023-11-27-DOAB_Library_Report_2023.xlsx\"\n",
    "sheet_name = \"Sheet1\"\n",
    "\n",
    "xls = pd.ExcelFile(f\"{folder}/{file_name}\")\n",
    "df = pd.read_excel(xls, sheet_name)\n",
    "\n",
    "\n",
    "def is_true(val) -> bool:\n",
    "    if isinstance(val, str):\n",
    "        return val.strip().lower() == \"true\"\n",
    "    elif isinstance(val, bool):\n",
    "        return val\n",
    "    elif isinstance(val, (int, float)):\n",
    "        return val == 1\n",
    "    return False\n",
    "\n",
    "\n",
    "def clean_cell_value[T](s: T) -> T:\n",
    "    \"\"\"\n",
    "    Clean the value from a spreadsheet cell:\n",
    "    - Normalize spacing values.\n",
    "    - Strip whitespaces.\n",
    "    \"\"\"\n",
    "    if not s or not isinstance(s, str):\n",
    "        return s\n",
    "    return re.sub(r\"\\s+\", \" \", s).strip()\n",
    "\n",
    "\n",
    "agent_column = \"Agent/Contact\"\n",
    "country_column = \"Country\"\n",
    "# not_agents = [\"standalone library\", \"Funder\", \"Consortium\", \"publisher\"]\n",
    "not_agents = []\n",
    "df = df[~df[agent_column].isna()]\n",
    "df = df[~df[agent_column].isin(not_agents)]\n",
    "for c in df.columns:\n",
    "    df[c] = df[c].apply(clean_cell_value)\n",
    "df = df[[agent_column, country_column]].drop_duplicates()\n",
    "df.replace(to_replace=[np.nan, pd.NA, pd.NaT], value=None, inplace=True)\n",
    "df.sort_values(by=agent_column)"
   ]
  }
 ],
 "metadata": {
  "kernelspec": {
   "display_name": ".venv",
   "language": "python",
   "name": "python3"
  },
  "language_info": {
   "codemirror_mode": {
    "name": "ipython",
    "version": 3
   },
   "file_extension": ".py",
   "mimetype": "text/x-python",
   "name": "python",
   "nbconvert_exporter": "python",
   "pygments_lexer": "ipython3",
   "version": "3.12.3"
  }
 },
 "nbformat": 4,
 "nbformat_minor": 2
}
