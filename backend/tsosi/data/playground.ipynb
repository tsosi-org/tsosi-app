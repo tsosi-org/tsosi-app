{
 "cells": [
  {
   "cell_type": "code",
   "execution_count": 5,
   "metadata": {},
   "outputs": [],
   "source": [
    "from pathlib import Path\n",
    "import sys\n",
    "import os\n",
    "import django\n",
    "from datetime import date\n",
    "import pandas as pd\n",
    "from asgiref.sync import sync_to_async\n",
    "\n",
    "# Add the parent directory to the system path and setup django\n",
    "BASE_DIR = str(Path(os.getcwd()).resolve().parent.parent)\n",
    "\n",
    "if BASE_DIR not in sys.path:\n",
    "    sys.path.append(BASE_DIR)\n",
    "\n",
    "os.environ.setdefault(\"DJANGO_SETTINGS_MODULE\", \"backend_site.settings\")\n",
    "\n",
    "django.setup()\n",
    "\n",
    "from django.db.models import F\n",
    "from tsosi.models import Transfert, Entity\n",
    "from tsosi.data.entity_matching import matchable_entities, match_entities\n",
    "from tsosi.models.transfert import (\n",
    "    MATCH_CRITERIA_SAME_NAME_COUNTRY,\n",
    "    MATCH_CRITERIA_SAME_NAME_ONLY,\n",
    "    MATCH_CRITERIA_SAME_PID,\n",
    "    MATCH_CRITERIA_SAME_NAME_URL,\n",
    ")\n",
    "\n",
    "\n",
    "@sync_to_async\n",
    "def to_run():\n",
    "    return matchable_entities()\n",
    "\n",
    "\n",
    "res = await to_run()"
   ]
  },
  {
   "cell_type": "markdown",
   "metadata": {},
   "source": [
    "### Prepare raw data for manual matching\n"
   ]
  },
  {
   "cell_type": "code",
   "execution_count": 1,
   "metadata": {},
   "outputs": [
    {
     "name": "stderr",
     "output_type": "stream",
     "text": [
      "INFO pid_matching - Preparing manual matching for 50 entities.\n",
      "INFO pid_matching - Successfully prepared manual matching for 50 entities.\n"
     ]
    }
   ],
   "source": [
    "from pathlib import Path\n",
    "import sys\n",
    "import os\n",
    "import django\n",
    "import pandas as pd\n",
    "from asgiref.sync import sync_to_async\n",
    "\n",
    "# Add the parent directory to the system path and setup django\n",
    "BASE_DIR = str(Path(os.getcwd()).resolve().parent.parent)\n",
    "\n",
    "if BASE_DIR not in sys.path:\n",
    "    sys.path.append(BASE_DIR)\n",
    "\n",
    "os.environ.setdefault(\"DJANGO_SETTINGS_MODULE\", \"backend_site.settings\")\n",
    "\n",
    "django.setup()\n",
    "\n",
    "from tsosi.data.pid_matching import prepare_manual_matching\n",
    "\n",
    "\n",
    "file_name = \"2025-01-15-DOAJ_Library_Report_2024_raw.xlsx\"\n",
    "file_folder = \"/home/guillaume-alzieu/Dev/TSOSI/TSOSI_data/doaj/1_raw/\"\n",
    "sheet = \"2024 Libraries \"\n",
    "name_column = \"Company\"\n",
    "country_colum = \"Country\"\n",
    "\n",
    "\n",
    "@sync_to_async\n",
    "def to_run():\n",
    "    xls = pd.ExcelFile(f\"{file_folder}{file_name}\")\n",
    "    data = pd.read_excel(xls, sheet)\n",
    "    return prepare_manual_matching(\n",
    "        data, name_column, country_column=country_colum\n",
    "    )\n",
    "\n",
    "\n",
    "res = await to_run()"
   ]
  },
  {
   "cell_type": "code",
   "execution_count": null,
   "metadata": {},
   "outputs": [],
   "source": [
    "res"
   ]
  },
  {
   "cell_type": "code",
   "execution_count": 2,
   "metadata": {},
   "outputs": [],
   "source": [
    "file_folder = \"/home/guillaume-alzieu/Dev/TSOSI/TSOSI_data/doaj/2_matched/\"\n",
    "file_to_write = \"2025-01-15-DOAJ_Library_Report_2024_matched.xlsx\"\n",
    "file_path = f\"{file_folder}{file_to_write}\"\n",
    "res.to_excel(file_path, index=False)"
   ]
  },
  {
   "cell_type": "markdown",
   "metadata": {},
   "source": [
    "### Prepare enriched data\n"
   ]
  },
  {
   "cell_type": "code",
   "execution_count": 8,
   "metadata": {},
   "outputs": [],
   "source": [
    "from pathlib import Path\n",
    "import sys\n",
    "import os\n",
    "import django\n",
    "import pandas as pd\n",
    "from asgiref.sync import sync_to_async\n",
    "\n",
    "# Add the parent directory to the system path and setup django\n",
    "BASE_DIR = str(Path(os.getcwd()).resolve().parent.parent)\n",
    "\n",
    "if BASE_DIR not in sys.path:\n",
    "    sys.path.append(BASE_DIR)\n",
    "\n",
    "os.environ.setdefault(\"DJANGO_SETTINGS_MODULE\", \"backend_site.settings\")\n",
    "\n",
    "django.setup()\n",
    "\n",
    "from tsosi.data.pid_matching import process_enriched_data\n",
    "from tsosi.models.transfert import TRANSFERT_ENTITY_TYPE_EMITTER\n",
    "\n",
    "file = \"/home/guillaume-alzieu/Dev/TSOSI/TSOSI_data/doaj/3_enriched/TSOI_publisher_support_2024_enriched_done.xlsx\"\n",
    "sheet = \"Sheet1\"\n",
    "name_column = \"Company\"\n",
    "xls = pd.ExcelFile(file)\n",
    "data = pd.read_excel(xls, sheet)\n",
    "\n",
    "res = process_enriched_data(data, name_column, TRANSFERT_ENTITY_TYPE_EMITTER)\n",
    "\n",
    "file_to_write = \"/home/guillaume-alzieu/Dev/TSOSI/TSOSI_data/doaj/4_prepared/TSOI_publisher_support_2024_prepared.xlsx\"\n",
    "res.to_excel(file_to_write, index=False)"
   ]
  },
  {
   "cell_type": "code",
   "execution_count": null,
   "metadata": {},
   "outputs": [],
   "source": [
    "import pycountry\n",
    "\n",
    "{c.name: c for c in pycountry.countries}"
   ]
  },
  {
   "cell_type": "markdown",
   "metadata": {},
   "source": [
    "### Redis setup\n"
   ]
  },
  {
   "cell_type": "code",
   "execution_count": null,
   "metadata": {},
   "outputs": [],
   "source": [
    "from pathlib import Path\n",
    "import sys\n",
    "import os\n",
    "import django\n",
    "from asgiref.sync import sync_to_async\n",
    "\n",
    "# Add the parent directory to the system path and setup django\n",
    "BASE_DIR = str(Path(os.getcwd()).resolve().parent.parent)\n",
    "\n",
    "if BASE_DIR not in sys.path:\n",
    "    sys.path.append(BASE_DIR)\n",
    "\n",
    "os.environ.setdefault(\"DJANGO_SETTINGS_MODULE\", \"backend_site.settings\")\n",
    "\n",
    "django.setup()\n",
    "\n",
    "# from tsosi.data.token_bucket import ror_token_bucket as bucket\n",
    "from tsosi.data.token_bucket import (\n",
    "    WIKIPEDIA_TOKEN_BUCKET as bucket,\n",
    "    REDIS_CLIENT,\n",
    ")\n",
    "\n",
    "\n",
    "async def to_run():\n",
    "    tokens = bucket.consume(80)\n",
    "\n",
    "    return tokens\n",
    "\n",
    "\n",
    "res = await to_run()"
   ]
  },
  {
   "cell_type": "code",
   "execution_count": null,
   "metadata": {},
   "outputs": [],
   "source": [
    "import time\n",
    "from tsosi.data.token_bucket import (\n",
    "    WIKIPEDIA_TOKEN_BUCKET as bucket,\n",
    "    REDIS_CLIENT,\n",
    ")\n",
    "\n",
    "# bucket.refill()\n",
    "REDIS_CLIENT.get(bucket.token_count_key)\n",
    "# n_res = float(res.decode(\"utf-8\"))\n",
    "# print(time.time() - n_res)"
   ]
  }
 ],
 "metadata": {
  "kernelspec": {
   "display_name": ".venv",
   "language": "python",
   "name": "python3"
  },
  "language_info": {
   "codemirror_mode": {
    "name": "ipython",
    "version": 3
   },
   "file_extension": ".py",
   "mimetype": "text/x-python",
   "name": "python",
   "nbconvert_exporter": "python",
   "pygments_lexer": "ipython3",
   "version": "3.12.3"
  }
 },
 "nbformat": 4,
 "nbformat_minor": 2
}
