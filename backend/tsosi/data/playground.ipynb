{
  "cells": [
    {
      "cell_type": "markdown",
      "metadata": {},
      "source": [
        "### DEV\n"
      ]
    },
    {
      "cell_type": "code",
      "execution_count": 11,
      "metadata": {},
      "outputs": [],
      "source": [
        "from pathlib import Path\n",
        "import sys\n",
        "import os\n",
        "import django\n",
        "import pandas as pd\n",
        "from asgiref.sync import sync_to_async\n",
        "\n",
        "# Add the parent directory to the system path and setup django\n",
        "BASE_DIR = str(Path(os.getcwd()).resolve().parent.parent)\n",
        "\n",
        "if BASE_DIR not in sys.path:\n",
        "    sys.path.append(BASE_DIR)\n",
        "\n",
        "os.environ.setdefault(\"DJANGO_SETTINGS_MODULE\", \"backend_site.settings\")\n",
        "\n",
        "django.setup()\n",
        "\n",
        "from tsosi.models import Entity, Transfer\n",
        "from django.utils import timezone\n",
        "from django.db.models import Q\n",
        "\n",
        "\n",
        "@sync_to_async\n",
        "def run():\n",
        "    fields = [\"id\", \"wikipedia_url\", \"wikipedia_extract\"]\n",
        "    date_value = timezone.now() - timezone.timedelta(days=15)\n",
        "    date_condition = Q(date_wikipedia_fetched__isnull=True) | Q(\n",
        "        date_wikipedia_fetched__lt=date_value\n",
        "    )\n",
        "    instances = (\n",
        "        Entity.objects.filter(is_active=True, wikipedia_url__isnull=False)\n",
        "        .filter(date_condition)\n",
        "        .filter(date_wikipedia_fetched__isnull=False)\n",
        "        .values(\n",
        "            \"id\", \"wikipedia_url\", \"wikipedia_extract\", \"date_wikipedia_fetched\"\n",
        "        )\n",
        "    )\n",
        "    df = pd.DataFrame.from_records(instances)\n",
        "    for c in fields:\n",
        "        df[c] = None\n",
        "\n",
        "    return df\n",
        "\n",
        "\n",
        "res = await run()"
      ]
    },
    {
      "cell_type": "code",
      "execution_count": 12,
      "metadata": {},
      "outputs": [
        {
          "data": {
            "text/html": [
              "<div>\n",
              "<style scoped>\n",
              "    .dataframe tbody tr th:only-of-type {\n",
              "        vertical-align: middle;\n",
              "    }\n",
              "\n",
              "    .dataframe tbody tr th {\n",
              "        vertical-align: top;\n",
              "    }\n",
              "\n",
              "    .dataframe thead th {\n",
              "        text-align: right;\n",
              "    }\n",
              "</style>\n",
              "<table border=\"1\" class=\"dataframe\">\n",
              "  <thead>\n",
              "    <tr style=\"text-align: right;\">\n",
              "      <th></th>\n",
              "      <th>id</th>\n",
              "      <th>wikipedia_url</th>\n",
              "      <th>wikipedia_extract</th>\n",
              "    </tr>\n",
              "  </thead>\n",
              "  <tbody>\n",
              "  </tbody>\n",
              "</table>\n",
              "</div>"
            ],
            "text/plain": [
              "Empty DataFrame\n",
              "Columns: [id, wikipedia_url, wikipedia_extract]\n",
              "Index: []"
            ]
          },
          "execution_count": 12,
          "metadata": {},
          "output_type": "execute_result"
        }
      ],
      "source": [
        "res"
      ]
    },
    {
      "cell_type": "code",
      "execution_count": null,
      "metadata": {},
      "outputs": [],
      "source": [
        "from pycountry import countries\n",
        "\n",
        "d = (\n",
        "    res.groupby(\"country\")\n",
        "    .count()\n",
        "    .reset_index()\n",
        "    .sort_values(\"id\", ascending=False)\n",
        ")\n",
        "mapping = {c.alpha_2: c.name for c in countries}\n",
        "d[\"country_name\"] = d[\"country\"].map(mapping)\n",
        "d.rename(columns={\"country\": \"country_code\", \"id\": \"number\"}, inplace=True)\n",
        "\n",
        "\n",
        "categories = [(50, \"Upper\"), (10, \"Medium\"), (0, \"Lower\")]\n",
        "\n",
        "for c_threshold, c_name in sorted(categories, key=lambda x: x[0]):\n",
        "    mask = d[\"number\"] >= c_threshold\n",
        "    d.loc[mask, \"category\"] = c_name\n",
        "\n",
        "d[[\"country_name\", \"country_code\", \"number\", \"category\"]].to_excel(\n",
        "    \"supporters_extract.xlsx\", index=False\n",
        ")"
      ]
    },
    {
      "cell_type": "code",
      "execution_count": null,
      "metadata": {},
      "outputs": [],
      "source": [
        "sorted(categories, key=lambda x: x[0])"
      ]
    },
    {
      "cell_type": "code",
      "execution_count": null,
      "metadata": {},
      "outputs": [],
      "source": [
        "from fontTools.ttLib.woff2 import compress\n",
        "from pathlib import Path\n",
        "import re\n",
        "\n",
        "font_directory = Path.home() / \"Documents/TSOSI/Graphisme/Mont/Mont\"\n",
        "otf_files = font_directory.glob(\"*.otf\")\n",
        "save_directory = Path.home() / \"Documents/TSOSI/Fonts/Mont\"\n",
        "\n",
        "for file in otf_files:\n",
        "    file_path_usefull = re.match(r\".*(Mont[^\\.]+)\", file.name)\n",
        "    save_path = (\n",
        "        str(save_directory / file_path_usefull[1]).replace(\" \", \"_\") + \".woff2\"\n",
        "    )\n",
        "    compress(str(file), str(save_path))"
      ]
    },
    {
      "cell_type": "code",
      "execution_count": null,
      "metadata": {},
      "outputs": [
        {
          "data": {
            "text/plain": [
              "[{'item': {'type': 'uri',\n",
              "   'value': 'http://www.wikidata.org/entity/Q215432154632121'},\n",
              "  'itemLabel': {'type': 'literal', 'value': 'Q215432154632121'}},\n",
              " {'item': {'type': 'uri',\n",
              "   'value': 'http://www.wikidata.org/entity/QNOT_EXISTING'},\n",
              "  'itemLabel': {'type': 'literal', 'value': 'QNOT_EXISTING'}}]"
            ]
          },
          "execution_count": 1,
          "metadata": {},
          "output_type": "execute_result"
        }
      ],
      "source": [
        "import requests\n",
        "\n",
        "query_base = \"\"\"\n",
        "SELECT\n",
        "    ?item\n",
        "    ?itemLabel\n",
        "    ?itemDescription\n",
        "    ?countryIsoCode\n",
        "    ?logoUrl\n",
        "    ?websiteUrl\n",
        "    ?rorId\n",
        "    ?wikipediaUrl\n",
        "    ?coordinates\n",
        "    ?inceptionDate\n",
        "    ?statementCount\n",
        "WHERE {{\n",
        "    VALUES ?item {{ {ids_part} }}\n",
        "    OPTIONAL {{ ?item wdt:P571 ?inceptionDate. }}\n",
        "    OPTIONAL {{ ?item (wdt:P17/wdt:P297) ?countryIsoCode. }}\n",
        "    OPTIONAL {{ ?item wdt:P154 ?logoUrl. }}\n",
        "    OPTIONAL {{ ?item wdt:P856 ?websiteUrl. }}\n",
        "    OPTIONAL {{ ?item wdt:P6782 ?rorId. }}\n",
        "    OPTIONAL {{ ?item wdt:P625 ?coordinates. }}\n",
        "    OPTIONAL {{ ?item wikibase:statements ?statementCount. }}\n",
        "    OPTIONAL {{\n",
        "        ?wikipediaUrl rdf:type schema:Article;\n",
        "        schema:about ?item;\n",
        "        schema:inLanguage \"en\";\n",
        "        schema:isPartOf <https://en.wikipedia.org/>.\n",
        "    }}\n",
        "    SERVICE wikibase:label {{\n",
        "        bd:serviceParam wikibase:language \"[AUTO_LANGUAGE],en\".\n",
        "    }}\n",
        "}}\n",
        "\"\"\"\n",
        "\n",
        "ids = [\"Q215432154632121\", \"QNOT_EXISTING\"]\n",
        "query = query_base.format(ids_part=\"\\n\\t\\t\".join([f\"wd:{id}\" for id in ids]))\n",
        "params = {\"query\": query, \"format\": \"json\"}\n",
        "\n",
        "resp = requests.post(\"https://query.wikidata.org/sparql\", params=params)\n",
        "resp.json()[\"results\"][\"bindings\"]"
      ]
    },
    {
      "cell_type": "code",
      "execution_count": 1,
      "metadata": {},
      "outputs": [
        {
          "ename": "KeyError",
          "evalue": "'wikipedia_url'",
          "output_type": "error",
          "traceback": [
            "\u001b[0;31m---------------------------------------------------------------------------\u001b[0m",
            "\u001b[0;31mKeyError\u001b[0m                                  Traceback (most recent call last)",
            "Cell \u001b[0;32mIn[1], line 5\u001b[0m\n\u001b[1;32m      3\u001b[0m df \u001b[38;5;241m=\u001b[39m pd\u001b[38;5;241m.\u001b[39mDataFrame()\n\u001b[1;32m      4\u001b[0m \u001b[38;5;66;03m# We only want wikipedia extract for entities with URL to the english wiki\u001b[39;00m\n\u001b[0;32m----> 5\u001b[0m mask \u001b[38;5;241m=\u001b[39m \u001b[43mdf\u001b[49m\u001b[43m[\u001b[49m\u001b[38;5;124;43m\"\u001b[39;49m\u001b[38;5;124;43mwikipedia_url\u001b[39;49m\u001b[38;5;124;43m\"\u001b[39;49m\u001b[43m]\u001b[49m\u001b[38;5;241m.\u001b[39mstr\u001b[38;5;241m.\u001b[39mstartswith(\u001b[38;5;124m\"\u001b[39m\u001b[38;5;124mhttps://en.wikipedia.org\u001b[39m\u001b[38;5;124m\"\u001b[39m)\n\u001b[1;32m      6\u001b[0m df[mask]\u001b[38;5;241m.\u001b[39mreset_index(drop\u001b[38;5;241m=\u001b[39m\u001b[38;5;28;01mTrue\u001b[39;00m)\n",
            "File \u001b[0;32m~/Dev/TSOSI/tsosi-app/backend/.venv/lib/python3.12/site-packages/pandas/core/frame.py:4102\u001b[0m, in \u001b[0;36mDataFrame.__getitem__\u001b[0;34m(self, key)\u001b[0m\n\u001b[1;32m   4100\u001b[0m \u001b[38;5;28;01mif\u001b[39;00m \u001b[38;5;28mself\u001b[39m\u001b[38;5;241m.\u001b[39mcolumns\u001b[38;5;241m.\u001b[39mnlevels \u001b[38;5;241m>\u001b[39m \u001b[38;5;241m1\u001b[39m:\n\u001b[1;32m   4101\u001b[0m     \u001b[38;5;28;01mreturn\u001b[39;00m \u001b[38;5;28mself\u001b[39m\u001b[38;5;241m.\u001b[39m_getitem_multilevel(key)\n\u001b[0;32m-> 4102\u001b[0m indexer \u001b[38;5;241m=\u001b[39m \u001b[38;5;28;43mself\u001b[39;49m\u001b[38;5;241;43m.\u001b[39;49m\u001b[43mcolumns\u001b[49m\u001b[38;5;241;43m.\u001b[39;49m\u001b[43mget_loc\u001b[49m\u001b[43m(\u001b[49m\u001b[43mkey\u001b[49m\u001b[43m)\u001b[49m\n\u001b[1;32m   4103\u001b[0m \u001b[38;5;28;01mif\u001b[39;00m is_integer(indexer):\n\u001b[1;32m   4104\u001b[0m     indexer \u001b[38;5;241m=\u001b[39m [indexer]\n",
            "File \u001b[0;32m~/Dev/TSOSI/tsosi-app/backend/.venv/lib/python3.12/site-packages/pandas/core/indexes/range.py:417\u001b[0m, in \u001b[0;36mRangeIndex.get_loc\u001b[0;34m(self, key)\u001b[0m\n\u001b[1;32m    415\u001b[0m         \u001b[38;5;28;01mraise\u001b[39;00m \u001b[38;5;167;01mKeyError\u001b[39;00m(key) \u001b[38;5;28;01mfrom\u001b[39;00m\u001b[38;5;250m \u001b[39m\u001b[38;5;21;01merr\u001b[39;00m\n\u001b[1;32m    416\u001b[0m \u001b[38;5;28;01mif\u001b[39;00m \u001b[38;5;28misinstance\u001b[39m(key, Hashable):\n\u001b[0;32m--> 417\u001b[0m     \u001b[38;5;28;01mraise\u001b[39;00m \u001b[38;5;167;01mKeyError\u001b[39;00m(key)\n\u001b[1;32m    418\u001b[0m \u001b[38;5;28mself\u001b[39m\u001b[38;5;241m.\u001b[39m_check_indexing_error(key)\n\u001b[1;32m    419\u001b[0m \u001b[38;5;28;01mraise\u001b[39;00m \u001b[38;5;167;01mKeyError\u001b[39;00m(key)\n",
            "\u001b[0;31mKeyError\u001b[0m: 'wikipedia_url'"
          ]
        }
      ],
      "source": [
        "import pandas as pd\n",
        "\n",
        "df = pd.DataFrame()\n",
        "# We only want wikipedia extract for entities with URL to the english wiki\n",
        "mask = df[\"wikipedia_url\"].str.startswith(\"https://en.wikipedia.org\")\n",
        "df[mask].reset_index(drop=True)"
      ]
    }
  ],
  "metadata": {
    "kernelspec": {
      "display_name": ".venv",
      "language": "python",
      "name": "python3"
    },
    "language_info": {
      "codemirror_mode": {
        "name": "ipython",
        "version": 3
      },
      "file_extension": ".py",
      "mimetype": "text/x-python",
      "name": "python",
      "nbconvert_exporter": "python",
      "pygments_lexer": "ipython3",
      "version": "3.12.3"
    }
  },
  "nbformat": 4,
  "nbformat_minor": 2
}
