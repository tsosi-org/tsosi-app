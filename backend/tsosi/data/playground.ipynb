{
 "cells": [
  {
   "cell_type": "code",
   "execution_count": 4,
   "metadata": {},
   "outputs": [
    {
     "name": "stderr",
     "output_type": "stream",
     "text": [
      "INFO raw_data_config - Preparing data with config `doaj_publisher`.\n",
      "INFO raw_data_config - Successfully prepared the data for config doaj_publisher\n",
      "INFO raw_data_config - Successfully write TSOSI data file at /home/guillaume-alzieu/Dev/TSOSI/TSOSI_data/_exports/2025-02-04_doaj_publisher_2024_full.json\n"
     ]
    }
   ],
   "source": [
    "from pathlib import Path\n",
    "import sys\n",
    "import os\n",
    "import django\n",
    "from datetime import date\n",
    "import pandas as pd\n",
    "from asgiref.sync import sync_to_async\n",
    "\n",
    "# Add the parent directory to the system path and setup django\n",
    "BASE_DIR = str(Path(os.getcwd()).resolve().parent.parent)\n",
    "\n",
    "if BASE_DIR not in sys.path:\n",
    "    sys.path.append(BASE_DIR)\n",
    "\n",
    "os.environ.setdefault(\"DJANGO_SETTINGS_MODULE\", \"backend_site.settings\")\n",
    "\n",
    "django.setup()\n",
    "\n",
    "from tsosi.data.preparation.doaj.publishers_202X import get_config\n",
    "\n",
    "year = 2024\n",
    "file_path = \"/home/guillaume-alzieu/Dev/TSOSI/TSOSI_data/doaj/4_prepared/2025-01-07-DOAJ_Publisher_Report_2024_prepared.xlsx\"\n",
    "sheet_name = \"Sheet1\"\n",
    "config = get_config(year, file_path, sheet_name)\n",
    "config.generate_data_file()"
   ]
  },
  {
   "cell_type": "code",
   "execution_count": null,
   "metadata": {},
   "outputs": [],
   "source": []
  },
  {
   "cell_type": "markdown",
   "metadata": {},
   "source": [
    "### Prepare raw data for manual matching\n"
   ]
  },
  {
   "cell_type": "code",
   "execution_count": null,
   "metadata": {},
   "outputs": [],
   "source": [
    "from pathlib import Path\n",
    "import sys\n",
    "import os\n",
    "import django\n",
    "import pandas as pd\n",
    "from asgiref.sync import sync_to_async\n",
    "\n",
    "# Add the parent directory to the system path and setup django\n",
    "BASE_DIR = str(Path(os.getcwd()).resolve().parent.parent)\n",
    "\n",
    "if BASE_DIR not in sys.path:\n",
    "    sys.path.append(BASE_DIR)\n",
    "\n",
    "os.environ.setdefault(\"DJANGO_SETTINGS_MODULE\", \"backend_site.settings\")\n",
    "\n",
    "django.setup()\n",
    "\n",
    "from tsosi.data.pid_matching import prepare_manual_matching\n",
    "\n",
    "\n",
    "file_name = \"2023-11-27-DOAB_Library_Report_2023.xlsx\"\n",
    "file_folder = \"/home/guillaume-alzieu/Dev/TSOSI/TSOSI_data/doab/1_raw/\"\n",
    "sheet = \"Sheet1\"\n",
    "name_column = \"Institution\"\n",
    "country_colum = \"Country\"\n",
    "\n",
    "\n",
    "@sync_to_async\n",
    "def to_run():\n",
    "    xls = pd.ExcelFile(f\"{file_folder}{file_name}\")\n",
    "    data = pd.read_excel(xls, sheet)\n",
    "    return prepare_manual_matching(\n",
    "        data, name_column, country_column=country_colum\n",
    "    )\n",
    "\n",
    "\n",
    "res = await to_run()"
   ]
  },
  {
   "cell_type": "code",
   "execution_count": null,
   "metadata": {},
   "outputs": [],
   "source": [
    "res"
   ]
  },
  {
   "cell_type": "code",
   "execution_count": 5,
   "metadata": {},
   "outputs": [],
   "source": [
    "file_folder = \"/home/guillaume-alzieu/Dev/TSOSI/TSOSI_data/doab/2_matched/\"\n",
    "file_to_write = \"2023-11-27-DOAB_Library_Report_2023_matched.xlsx\"\n",
    "file_path = f\"{file_folder}{file_to_write}\"\n",
    "res.to_excel(file_path, index=False)"
   ]
  },
  {
   "cell_type": "code",
   "execution_count": null,
   "metadata": {},
   "outputs": [],
   "source": [
    "d = res.copy()\n",
    "d[d[\"_processed\"] != True]"
   ]
  },
  {
   "cell_type": "markdown",
   "metadata": {},
   "source": [
    "### Prepare enriched data\n"
   ]
  },
  {
   "cell_type": "code",
   "execution_count": null,
   "metadata": {},
   "outputs": [],
   "source": [
    "from pathlib import Path\n",
    "import sys\n",
    "import os\n",
    "import django\n",
    "import pandas as pd\n",
    "from asgiref.sync import sync_to_async\n",
    "\n",
    "# Add the parent directory to the system path and setup django\n",
    "BASE_DIR = str(Path(os.getcwd()).resolve().parent.parent)\n",
    "\n",
    "if BASE_DIR not in sys.path:\n",
    "    sys.path.append(BASE_DIR)\n",
    "\n",
    "os.environ.setdefault(\"DJANGO_SETTINGS_MODULE\", \"backend_site.settings\")\n",
    "\n",
    "django.setup()\n",
    "\n",
    "from tsosi.data.pid_matching import process_enriched_data\n",
    "from tsosi.models.transfert import TRANSFERT_ENTITY_TYPE_EMITTER\n",
    "\n",
    "file = \"/home/guillaume-alzieu/Dev/TSOSI/TSOSI_data/doaj/3_enriched/2025-01-07-DOAJ_Publisher_Report_2024_enriched_done.xlsx\"\n",
    "sheet = \"Sheet1\"\n",
    "name_column = \"Company\"\n",
    "xls = pd.ExcelFile(file)\n",
    "data = pd.read_excel(xls, sheet)\n",
    "\n",
    "res = process_enriched_data(data, name_column, TRANSFERT_ENTITY_TYPE_EMITTER)\n",
    "\n",
    "file_to_write = \"/home/guillaume-alzieu/Dev/TSOSI/TSOSI_data/doaj/4_prepared/2025-01-07-DOAJ_Publisher_Report_2024_prepared.xlsx\"\n",
    "res.to_excel(file_to_write, index=False)"
   ]
  },
  {
   "cell_type": "code",
   "execution_count": null,
   "metadata": {},
   "outputs": [],
   "source": [
    "res"
   ]
  },
  {
   "cell_type": "code",
   "execution_count": null,
   "metadata": {},
   "outputs": [],
   "source": [
    "import pycountry\n",
    "\n",
    "{c.name: c for c in pycountry.countries}"
   ]
  },
  {
   "cell_type": "markdown",
   "metadata": {},
   "source": [
    "### Redis setup\n"
   ]
  },
  {
   "cell_type": "code",
   "execution_count": null,
   "metadata": {},
   "outputs": [],
   "source": [
    "from pathlib import Path\n",
    "import sys\n",
    "import os\n",
    "import django\n",
    "from asgiref.sync import sync_to_async\n",
    "\n",
    "# Add the parent directory to the system path and setup django\n",
    "BASE_DIR = str(Path(os.getcwd()).resolve().parent.parent)\n",
    "\n",
    "if BASE_DIR not in sys.path:\n",
    "    sys.path.append(BASE_DIR)\n",
    "\n",
    "os.environ.setdefault(\"DJANGO_SETTINGS_MODULE\", \"backend_site.settings\")\n",
    "\n",
    "django.setup()\n",
    "\n",
    "# from tsosi.data.token_bucket import ror_token_bucket as bucket\n",
    "from tsosi.data.token_bucket import (\n",
    "    WIKIPEDIA_TOKEN_BUCKET as bucket,\n",
    "    REDIS_CLIENT,\n",
    ")\n",
    "\n",
    "\n",
    "async def to_run():\n",
    "    tokens = bucket.consume(80)\n",
    "\n",
    "    return tokens\n",
    "\n",
    "\n",
    "res = await to_run()"
   ]
  },
  {
   "cell_type": "code",
   "execution_count": null,
   "metadata": {},
   "outputs": [],
   "source": [
    "from pycountry import countries\n",
    "\n",
    "\n",
    "res = countries.search_fuzzy(\"Guadeloupe\")\n",
    "res"
   ]
  },
  {
   "cell_type": "code",
   "execution_count": 2,
   "metadata": {},
   "outputs": [
    {
     "name": "stderr",
     "output_type": "stream",
     "text": [
      "INFO ingestion - Ingesting 42 transfert records.\n",
      "INFO ingestion - Created 42 Entity records\n",
      "INFO ingestion - Created 39 Identifier and IdentifierEntityMatching records.\n",
      "INFO ingestion - Created 42 Transfert records\n",
      "INFO ingestion - Created 84 TransfertEntityMatching records\n",
      "INFO ingestion - Successfully ingested 42 records.\n",
      "INFO tasks - Triggering post-ingestion pipeline.\n",
      "INFO tasks - Triggering new identifier fetching for registries: ['ror', 'wikidata']\n",
      "INFO ingestion - Ingesting 43 transfert records.\n",
      "INFO ingestion - Created 4 Entity records\n",
      "INFO ingestion - Created 1 Identifier and IdentifierEntityMatching records.\n",
      "INFO ingestion - Created 43 Transfert records\n",
      "INFO ingestion - Created 86 TransfertEntityMatching records\n",
      "INFO ingestion - Successfully ingested 43 records.\n",
      "INFO tasks - Triggering post-ingestion pipeline.\n",
      "INFO tasks - Triggering new identifier fetching for registries: ['wikidata']\n",
      "INFO ingestion - Ingesting 51 transfert records.\n",
      "INFO ingestion - Created 12 Entity records\n",
      "INFO ingestion - Created 10 Identifier and IdentifierEntityMatching records.\n",
      "INFO ingestion - Created 51 Transfert records\n",
      "INFO ingestion - Created 102 TransfertEntityMatching records\n",
      "INFO ingestion - Successfully ingested 51 records.\n",
      "INFO tasks - Triggering post-ingestion pipeline.\n",
      "INFO tasks - Triggering new identifier fetching for registries: ['ror', 'wikidata']\n",
      "INFO ingestion - Ingesting 44 transfert records.\n",
      "INFO ingestion - Created 5 Entity records\n",
      "INFO ingestion - Created 4 Identifier and IdentifierEntityMatching records.\n",
      "INFO ingestion - Created 44 Transfert records\n",
      "INFO ingestion - Created 88 TransfertEntityMatching records\n",
      "INFO ingestion - Successfully ingested 44 records.\n",
      "INFO tasks - Triggering post-ingestion pipeline.\n",
      "INFO tasks - Triggering new identifier fetching for registries: ['ror']\n"
     ]
    }
   ],
   "source": [
    "from pathlib import Path\n",
    "import sys\n",
    "import os\n",
    "import django\n",
    "from asgiref.sync import sync_to_async\n",
    "\n",
    "# Add the parent directory to the system path and setup django\n",
    "BASE_DIR = str(Path(os.getcwd()).resolve().parent.parent)\n",
    "\n",
    "if BASE_DIR not in sys.path:\n",
    "    sys.path.append(BASE_DIR)\n",
    "\n",
    "os.environ.setdefault(\"DJANGO_SETTINGS_MODULE\", \"backend_site.settings\")\n",
    "\n",
    "django.setup()\n",
    "\n",
    "from tsosi.data.ingestion import ingest_data_file\n",
    "from tsosi.models import empty_db\n",
    "\n",
    "publisher_files = [\n",
    "    \"2025-02-04_doaj_publisher_2021_full.json\",\n",
    "    \"2025-02-04_doaj_publisher_2022_full.json\",\n",
    "    \"2025-02-04_doaj_publisher_2023_full.json\",\n",
    "    \"2025-02-04_doaj_publisher_2024_full.json\",\n",
    "]\n",
    "\n",
    "\n",
    "@sync_to_async\n",
    "def to_run():\n",
    "    # empty_db()\n",
    "    # for file in publisher_files:\n",
    "    #     ingest(file)\n",
    "    # return\n",
    "\n",
    "\n",
    "res = await to_run()"
   ]
  }
 ],
 "metadata": {
  "kernelspec": {
   "display_name": ".venv",
   "language": "python",
   "name": "python3"
  },
  "language_info": {
   "codemirror_mode": {
    "name": "ipython",
    "version": 3
   },
   "file_extension": ".py",
   "mimetype": "text/x-python",
   "name": "python",
   "nbconvert_exporter": "python",
   "pygments_lexer": "ipython3",
   "version": "3.12.3"
  }
 },
 "nbformat": 4,
 "nbformat_minor": 2
}
