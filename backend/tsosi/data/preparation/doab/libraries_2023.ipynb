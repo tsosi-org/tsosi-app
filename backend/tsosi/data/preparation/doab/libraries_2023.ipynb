{
 "cells": [
  {
   "cell_type": "code",
   "execution_count": 2,
   "metadata": {},
   "outputs": [],
   "source": [
    "from pathlib import Path\n",
    "import sys\n",
    "import os\n",
    "import django\n",
    "import pandas as pd\n",
    "from asgiref.sync import sync_to_async\n",
    "\n",
    "# Add the parent directory to the system path and setup django\n",
    "BASE_DIR = str(Path(os.getcwd()).resolve().parent.parent.parent.parent)\n",
    "\n",
    "if BASE_DIR not in sys.path:\n",
    "    sys.path.append(BASE_DIR)\n",
    "\n",
    "os.environ.setdefault(\"DJANGO_SETTINGS_MODULE\", \"backend_site.settings\")\n",
    "\n",
    "django.setup()\n",
    "\n",
    "file_name = \"LibrarySupportProjections_OAPEN_DOAB_20231127_SD.xlsx\"\n",
    "file_input_folder = (\n",
    "    \"/home/guillaume-alzieu/Dev/TSOSI/TSOSI_data/doab/0_to_combine/\"\n",
    ")\n",
    "file_output_folder = \"/home/guillaume-alzieu/Dev/TSOSI/TSOSI_data/doab/1_raw/\"\n",
    "\n",
    "\n",
    "def pre_process():\n",
    "    sheet_data = \"Details\"\n",
    "    sheet_raw = \"Raw Data\"\n",
    "    name_column = \"Institution\"\n",
    "    country_colum = \"Country\"\n",
    "\n",
    "    xls = pd.ExcelFile(f\"{file_input_folder}{file_name}\")\n",
    "    df_data = pd.read_excel(xls, sheet_data)\n",
    "    df_raw = pd.read_excel(xls, sheet_raw)\n",
    "    country_mapping = df_raw.dropna(subset=country_colum).drop_duplicates(\n",
    "        subset=[name_column, country_colum]\n",
    "    )\n",
    "    # de-duplicate\n",
    "    assert len(country_mapping) == len(\n",
    "        country_mapping.drop_duplicates(subset=[name_column])\n",
    "    )\n",
    "    country_mapping = country_mapping.set_index(name_column)[country_colum]\n",
    "    df_data[country_colum] = df_data[name_column].map(country_mapping)\n",
    "    columns = df_data.columns\n",
    "    ordered_columns = []\n",
    "    for col in columns:\n",
    "        if col != country_colum:\n",
    "            ordered_columns.append(col)\n",
    "        if col == name_column:\n",
    "            ordered_columns.append(country_colum)\n",
    "\n",
    "    date_cols = [\n",
    "        \"Support Confirmation Date\",\n",
    "        \"Support Start Date\",\n",
    "        \"Support End Date\",\n",
    "    ]\n",
    "    for d_col in date_cols:\n",
    "        df_data[d_col] = df_data[d_col].dt.date\n",
    "    return df_data[ordered_columns].copy()\n",
    "\n",
    "\n",
    "res = pre_process()"
   ]
  },
  {
   "cell_type": "code",
   "execution_count": 57,
   "metadata": {},
   "outputs": [],
   "source": [
    "file_path = \"2023-11-27-DOAB_Library_Report_2023.xlsx\"\n",
    "res.to_excel(f\"{file_output_folder}{file_path}\", index=False)"
   ]
  }
 ],
 "metadata": {
  "kernelspec": {
   "display_name": ".venv",
   "language": "python",
   "name": "python3"
  },
  "language_info": {
   "codemirror_mode": {
    "name": "ipython",
    "version": 3
   },
   "file_extension": ".py",
   "mimetype": "text/x-python",
   "name": "python",
   "nbconvert_exporter": "python",
   "pygments_lexer": "ipython3",
   "version": "3.12.3"
  }
 },
 "nbformat": 4,
 "nbformat_minor": 2
}
