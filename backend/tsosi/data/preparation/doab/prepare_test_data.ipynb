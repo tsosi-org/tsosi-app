{
 "cells": [
  {
   "cell_type": "markdown",
   "id": "d910cf70",
   "metadata": {},
   "source": [
    "### Generate DOAB fixture file\n"
   ]
  },
  {
   "cell_type": "code",
   "execution_count": null,
   "id": "9ce046cf",
   "metadata": {},
   "outputs": [],
   "source": [
    "from pathlib import Path\n",
    "import sys\n",
    "import os\n",
    "import django\n",
    "from datetime import date\n",
    "\n",
    "# Add the parent directory to the system path and setup django\n",
    "BASE_DIR = str(Path(os.getcwd()).resolve().parent.parent.parent.parent)\n",
    "\n",
    "if BASE_DIR not in sys.path:\n",
    "    sys.path.append(BASE_DIR)\n",
    "\n",
    "os.environ.setdefault(\"DJANGO_SETTINGS_MODULE\", \"backend_site.settings\")\n",
    "\n",
    "django.setup()\n",
    "\n",
    "from tsosi.data.preparation.doab.libraries import get_config\n",
    "from tsosi.app_settings import app_settings\n",
    "\n",
    "file_path = (\n",
    "    app_settings.TSOSI_APP_DATA_DIR / \"fixtures/DOAB_Library_fixture.xlsx\"\n",
    ")\n",
    "date_data = date.today()\n",
    "config = get_config(str(file_path), \"Transfers\", date_data)\n",
    "output_folder = app_settings.TSOSI_APP_DATA_DIR / \"fixtures/prepared_files\"\n",
    "config.generate_data_file(output_folder)"
   ]
  }
 ],
 "metadata": {
  "kernelspec": {
   "display_name": "tsosi-backend-py3.12",
   "language": "python",
   "name": "python3"
  },
  "language_info": {
   "codemirror_mode": {
    "name": "ipython",
    "version": 3
   },
   "file_extension": ".py",
   "mimetype": "text/x-python",
   "name": "python",
   "nbconvert_exporter": "python",
   "pygments_lexer": "ipython3",
   "version": "3.12.10"
  }
 },
 "nbformat": 4,
 "nbformat_minor": 5
}
