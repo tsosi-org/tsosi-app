{
 "cells": [
  {
   "cell_type": "markdown",
   "metadata": {},
   "source": [
    "### Check for transferts with ambiguous invoice dates\n"
   ]
  },
  {
   "cell_type": "code",
   "execution_count": null,
   "metadata": {},
   "outputs": [],
   "source": [
    "import pandas as pd\n",
    "from pathlib import Path\n",
    "from datetime import date\n",
    "\n",
    "\n",
    "file_path = (\n",
    "    Path.home()\n",
    "    / \"Nextcloud/TSOSI_data/doaj/3_enriched/2025-01-15-DOAJ_Library_Report_2024_enriched_done.xlsx\"\n",
    ")\n",
    "\n",
    "df = pd.read_excel(file_path)\n",
    "\n",
    "df[\"_invoice_date\"] = pd.to_datetime(df[\"Invoice date\"], errors=\"coerce\")\n",
    "\n",
    "date_bound = date(2023, 7, 1)\n",
    "df[\"_date_before_bound\"] = df[\"_invoice_date\"].apply(\n",
    "    lambda x: True if pd.isna(x) else x.date() < date_bound\n",
    ")\n",
    "\n",
    "\n",
    "mask = (\n",
    "    ~df[\"Support amount\"].isna()\n",
    "    & ~df[\"_invoice_date\"].isna()\n",
    "    & df[\"_date_before_bound\"]\n",
    ")\n",
    "columns = [c for c in df.columns if not c[0] == \"_\"]\n",
    "to_review = df[mask][columns]\n",
    "to_review.to_excel(\n",
    "    \"TSOSI_DOAJ_Library_2024_Invoice_data_review.xlsx\", index=False\n",
    ")"
   ]
  },
  {
   "cell_type": "markdown",
   "metadata": {},
   "source": [
    "### Check for duplicated transferts\n"
   ]
  },
  {
   "cell_type": "code",
   "execution_count": 19,
   "metadata": {},
   "outputs": [
    {
     "data": {
      "text/html": [
       "<div>\n",
       "<style scoped>\n",
       "    .dataframe tbody tr th:only-of-type {\n",
       "        vertical-align: middle;\n",
       "    }\n",
       "\n",
       "    .dataframe tbody tr th {\n",
       "        vertical-align: top;\n",
       "    }\n",
       "\n",
       "    .dataframe thead th {\n",
       "        text-align: right;\n",
       "    }\n",
       "</style>\n",
       "<table border=\"1\" class=\"dataframe\">\n",
       "  <thead>\n",
       "    <tr style=\"text-align: right;\">\n",
       "      <th></th>\n",
       "      <th>Institution name</th>\n",
       "      <th>type</th>\n",
       "      <th>country</th>\n",
       "      <th>currency</th>\n",
       "      <th>amount</th>\n",
       "    </tr>\n",
       "  </thead>\n",
       "  <tbody>\n",
       "    <tr>\n",
       "      <th>149</th>\n",
       "      <td>Université de Bordeaux</td>\n",
       "      <td>Library</td>\n",
       "      <td>France</td>\n",
       "      <td>€</td>\n",
       "      <td>1317.72</td>\n",
       "    </tr>\n",
       "    <tr>\n",
       "      <th>150</th>\n",
       "      <td>Université de Bordeaux</td>\n",
       "      <td>Library</td>\n",
       "      <td>France</td>\n",
       "      <td>€</td>\n",
       "      <td>1931.70</td>\n",
       "    </tr>\n",
       "  </tbody>\n",
       "</table>\n",
       "</div>"
      ],
      "text/plain": [
       "           Institution name     type country currency   amount\n",
       "149  Université de Bordeaux  Library  France        €  1317.72\n",
       "150  Université de Bordeaux  Library  France        €  1931.70"
      ]
     },
     "execution_count": 19,
     "metadata": {},
     "output_type": "execute_result"
    }
   ],
   "source": [
    "import pandas as pd\n",
    "from pathlib import Path\n",
    "from datetime import date\n",
    "\n",
    "\n",
    "file_path = (\n",
    "    Path.home()\n",
    "    / \"Nextcloud/TSOSI_data/doaj/3_enriched/2024-09-20-DOAJ_Library_Report_2021_enriched_done.xlsx\"\n",
    ")\n",
    "\n",
    "amount_field = \"amount\"\n",
    "entity_field = \"Institution name\"\n",
    "\n",
    "df = pd.read_excel(file_path)\n",
    "\n",
    "columns = [c for c in df.columns if not c[0] == \"_\"]\n",
    "# Drop lines with missing amounts - They correspond to past transferts.\n",
    "df = df[~df[amount_field].isna()][columns].copy()\n",
    "# Check for entities with multiple occurences\n",
    "grouped = df.groupby(entity_field)[amount_field].count()\n",
    "grouped[grouped > 1]\n",
    "mask = df[entity_field].isin(grouped[grouped > 1].index)\n",
    "to_review = df[mask].sort_values(entity_field)\n",
    "# Export\n",
    "# to_review.to_excel(\n",
    "#     \"TSOSI_DOAJ_Library_2024_Duplicated_transferts_review.xlsx\", index=False\n",
    "# )\n",
    "to_review"
   ]
  }
 ],
 "metadata": {
  "kernelspec": {
   "display_name": ".venv",
   "language": "python",
   "name": "python3"
  },
  "language_info": {
   "codemirror_mode": {
    "name": "ipython",
    "version": 3
   },
   "file_extension": ".py",
   "mimetype": "text/x-python",
   "name": "python",
   "nbconvert_exporter": "python",
   "pygments_lexer": "ipython3",
   "version": "3.12.3"
  }
 },
 "nbformat": 4,
 "nbformat_minor": 2
}
