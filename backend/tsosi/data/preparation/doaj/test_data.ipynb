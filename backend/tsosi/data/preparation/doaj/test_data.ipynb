{
 "cells": [
  {
   "cell_type": "markdown",
   "id": "d910cf70",
   "metadata": {},
   "source": [
    "### Generate DOAJ fixture file\n"
   ]
  },
  {
   "cell_type": "code",
   "execution_count": null,
   "id": "9ce046cf",
   "metadata": {},
   "outputs": [
    {
     "ename": "TypeError",
     "evalue": "get_fixture_config() missing 1 required positional argument: 'date_data'",
     "output_type": "error",
     "traceback": [
      "\u001b[0;31m---------------------------------------------------------------------------\u001b[0m",
      "\u001b[0;31mTypeError\u001b[0m                                 Traceback (most recent call last)",
      "Cell \u001b[0;32mIn[1], line 22\u001b[0m\n\u001b[1;32m     20\u001b[0m file_path \u001b[38;5;241m=\u001b[39m app_settings\u001b[38;5;241m.\u001b[39mTSOSI_APP_DATA_DIR \u001b[38;5;241m/\u001b[39m \u001b[38;5;124m\"\u001b[39m\u001b[38;5;124mfixtures/doaj_example.json\u001b[39m\u001b[38;5;124m\"\u001b[39m\n\u001b[1;32m     21\u001b[0m date_data \u001b[38;5;241m=\u001b[39m date\u001b[38;5;241m.\u001b[39mtoday()\n\u001b[0;32m---> 22\u001b[0m config \u001b[38;5;241m=\u001b[39m \u001b[43mget_fixture_config\u001b[49m\u001b[43m(\u001b[49m\u001b[38;5;241;43m2024\u001b[39;49m\u001b[43m,\u001b[49m\u001b[43m \u001b[49m\u001b[38;5;28;43mstr\u001b[39;49m\u001b[43m(\u001b[49m\u001b[43mfile_path\u001b[49m\u001b[43m)\u001b[49m\u001b[43m)\u001b[49m\n\u001b[1;32m     23\u001b[0m output_folder \u001b[38;5;241m=\u001b[39m app_settings\u001b[38;5;241m.\u001b[39mTSOSI_APP_DATA_DIR \u001b[38;5;241m/\u001b[39m \u001b[38;5;124m\"\u001b[39m\u001b[38;5;124mfixtures/prepared_files\u001b[39m\u001b[38;5;124m\"\u001b[39m\n\u001b[1;32m     24\u001b[0m config\u001b[38;5;241m.\u001b[39mgenerate_data_file(output_folder)\n",
      "\u001b[0;31mTypeError\u001b[0m: get_fixture_config() missing 1 required positional argument: 'date_data'"
     ]
    }
   ],
   "source": [
    "from pathlib import Path\n",
    "import sys\n",
    "import os\n",
    "import django\n",
    "from datetime import date\n",
    "\n",
    "# Add the parent directory to the system path and setup django\n",
    "BASE_DIR = str(Path(os.getcwd()).resolve().parent.parent.parent.parent)\n",
    "\n",
    "if BASE_DIR not in sys.path:\n",
    "    sys.path.append(BASE_DIR)\n",
    "\n",
    "os.environ.setdefault(\"DJANGO_SETTINGS_MODULE\", \"backend_site.settings\")\n",
    "\n",
    "django.setup()\n",
    "\n",
    "from tsosi.data.preparation.doaj.libraries_2024_now import get_fixture_config\n",
    "from tsosi.app_settings import app_settings\n",
    "\n",
    "file_path = app_settings.TSOSI_APP_DATA_DIR / \"fixtures/doaj_example.json\"\n",
    "date_data = date.today()\n",
    "config = get_fixture_config(2024, str(file_path), date_data)\n",
    "output_folder = app_settings.TSOSI_APP_DATA_DIR / \"fixtures/prepared_files\"\n",
    "config.generate_data_file(output_folder)"
   ]
  }
 ],
 "metadata": {
  "kernelspec": {
   "display_name": ".venv",
   "language": "python",
   "name": "python3"
  },
  "language_info": {
   "codemirror_mode": {
    "name": "ipython",
    "version": 3
   },
   "file_extension": ".py",
   "mimetype": "text/x-python",
   "name": "python",
   "nbconvert_exporter": "python",
   "pygments_lexer": "ipython3",
   "version": "3.12.3"
  }
 },
 "nbformat": 4,
 "nbformat_minor": 5
}
