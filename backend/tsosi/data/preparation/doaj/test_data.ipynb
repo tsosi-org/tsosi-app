{
 "cells": [
  {
   "cell_type": "markdown",
   "id": "d910cf70",
   "metadata": {},
   "source": [
    "### Generate DOAJ fixture file\n"
   ]
  },
  {
   "cell_type": "code",
   "execution_count": 2,
   "id": "9ce046cf",
   "metadata": {},
   "outputs": [
    {
     "name": "stderr",
     "output_type": "stream",
     "text": [
      "INFO raw_data_config - Preparing data with config `doaj_library_2024+`.\n",
      "INFO raw_data_config - Successfully prepared the data for config doaj_library_2024+\n",
      "INFO raw_data_config - Successfully write TSOSI data file at /home/guillaume-alzieu/Dev/TSOSI/tsosi-app/backend/tsosi/data/fixtures/prepared_files/2025-04-16_doaj_library_2024_full.json\n"
     ]
    }
   ],
   "source": [
    "from pathlib import Path\n",
    "import sys\n",
    "import os\n",
    "import django\n",
    "from datetime import date\n",
    "\n",
    "# Add the parent directory to the system path and setup django\n",
    "BASE_DIR = str(Path(os.getcwd()).resolve().parent.parent.parent.parent)\n",
    "\n",
    "if BASE_DIR not in sys.path:\n",
    "    sys.path.append(BASE_DIR)\n",
    "\n",
    "os.environ.setdefault(\"DJANGO_SETTINGS_MODULE\", \"backend_site.settings\")\n",
    "\n",
    "django.setup()\n",
    "\n",
    "from tsosi.data.preparation.doaj.libraries_2024_now import get_fixture_config\n",
    "from tsosi.app_settings import app_settings\n",
    "\n",
    "file_path = app_settings.TSOSI_APP_DATA_DIR / \"fixtures/doaj_example.json\"\n",
    "date_data = date.today()\n",
    "config = get_fixture_config(2024, str(file_path), date_data)\n",
    "output_folder = app_settings.TSOSI_APP_DATA_DIR / \"fixtures/prepared_files\"\n",
    "config.generate_data_file(output_folder)"
   ]
  }
 ],
 "metadata": {
  "kernelspec": {
   "display_name": ".venv",
   "language": "python",
   "name": "python3"
  },
  "language_info": {
   "codemirror_mode": {
    "name": "ipython",
    "version": 3
   },
   "file_extension": ".py",
   "mimetype": "text/x-python",
   "name": "python",
   "nbconvert_exporter": "python",
   "pygments_lexer": "ipython3",
   "version": "3.12.3"
  }
 },
 "nbformat": 4,
 "nbformat_minor": 5
}
