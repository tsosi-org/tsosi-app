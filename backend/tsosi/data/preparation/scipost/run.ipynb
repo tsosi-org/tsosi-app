{
 "cells": [
  {
   "cell_type": "markdown",
   "metadata": {},
   "source": [
    "### Dev - Debug token request\n"
   ]
  },
  {
   "cell_type": "code",
   "execution_count": null,
   "metadata": {},
   "outputs": [],
   "source": [
    "from pathlib import Path\n",
    "import sys\n",
    "import os\n",
    "import django\n",
    "from datetime import date\n",
    "\n",
    "# Add the parent directory to the system path and setup django\n",
    "BASE_DIR = str(Path(os.getcwd()).resolve().parent.parent.parent.parent)\n",
    "\n",
    "if BASE_DIR not in sys.path:\n",
    "    sys.path.append(BASE_DIR)\n",
    "\n",
    "os.environ.setdefault(\"DJANGO_SETTINGS_MODULE\", \"backend_site.settings\")\n",
    "\n",
    "django.setup()\n",
    "\n",
    "from tsosi.data.preparation.scipost.data import (\n",
    "    get_scipost_raw_data,\n",
    "    SCIPOST_TOKEN_URL,\n",
    ")\n",
    "from tsosi.app_settings import app_settings\n",
    "from datetime import date\n",
    "from pathlib import Path\n",
    "import requests\n",
    "\n",
    "today_str = date.today().strftime(\"%Y-%m-%d\")\n",
    "raw_data_file = f\"{today_str}_scipost_raw.json\"\n",
    "\n",
    "raw_data_folder = Path.home() / \"Nextcloud/TSOSI_data/scipost/0_raw\"\n",
    "\n",
    "raw_path = str(raw_data_folder / raw_data_file)\n",
    "# get_scipost_raw_data(dest_file=raw_path)\n",
    "\n",
    "print(\"Collecting OAuth2 token\")\n",
    "auth_data = app_settings.SCIPOST_AUTH\n",
    "\n",
    "if auth_data is None:\n",
    "    raise Exception(\"Missing TSOSI_SCIPOST_AUTH setting\")\n",
    "\n",
    "payload = {\n",
    "    \"grant_type\": \"password\",\n",
    "    \"username\": \"TSOSI\",\n",
    "    \"password\": auth_data[\"password\"],\n",
    "    \"scope\": \"read\",\n",
    "}\n",
    "auth = (auth_data[\"client_id\"], auth_data[\"client_secret\"])\n",
    "# print(auth)\n",
    "# print(payload)\n",
    "token_data: dict = requests.post(SCIPOST_TOKEN_URL, payload, auth=auth).json()"
   ]
  },
  {
   "cell_type": "code",
   "execution_count": null,
   "metadata": {},
   "outputs": [],
   "source": [
    "token_data"
   ]
  },
  {
   "cell_type": "code",
   "execution_count": null,
   "metadata": {},
   "outputs": [],
   "source": [
    "from urllib.parse import urlencode, quote_plus\n",
    "\n",
    "qs = \"&\".join([f\"{k}={v}\" for k, v in payload.items()])\n",
    "qs = urlencode(payload)\n",
    "\n",
    "authentication = \":\".join(auth)\n",
    "\n",
    "print(\n",
    "    f'curl -X POST -d \"{qs}\" -u \"{authentication}\" https://scipost.org/o/token/'\n",
    ")\n",
    "# token_data\n",
    "quote_plus(\"contact@tsosi.org\")"
   ]
  },
  {
   "cell_type": "markdown",
   "metadata": {},
   "source": [
    "### 0 - Get SciPost data\n"
   ]
  },
  {
   "cell_type": "code",
   "execution_count": null,
   "metadata": {},
   "outputs": [],
   "source": [
    "from pathlib import Path\n",
    "import sys\n",
    "import os\n",
    "import django\n",
    "\n",
    "# Add the parent directory to the system path and setup django\n",
    "BASE_DIR = Path(os.getcwd()).resolve().parent.parent.parent.parent\n",
    "\n",
    "if str(BASE_DIR) not in sys.path:\n",
    "    sys.path.append(str(BASE_DIR))\n",
    "\n",
    "os.environ.setdefault(\"DJANGO_SETTINGS_MODULE\", \"backend_site.settings\")\n",
    "\n",
    "django.setup()\n",
    "\n",
    "from tsosi.data.preparation.scipost.data import get_scipost_raw_data\n",
    "from pathlib import Path\n",
    "\n",
    "raw_data_folder = BASE_DIR / \"_no_git/fixtures/scipost/0_raw\"\n",
    "results = get_scipost_raw_data(dest_folder=raw_data_folder)"
   ]
  },
  {
   "cell_type": "markdown",
   "metadata": {},
   "source": [
    "### 1 - Process collected data\n"
   ]
  },
  {
   "cell_type": "code",
   "execution_count": null,
   "metadata": {},
   "outputs": [],
   "source": [
    "from pathlib import Path\n",
    "import sys\n",
    "import os\n",
    "import django\n",
    "import pandas as pd\n",
    "\n",
    "# Add the parent directory to the system path and setup django\n",
    "BASE_DIR = Path(os.getcwd()).resolve().parent.parent.parent.parent\n",
    "\n",
    "if str(BASE_DIR) not in sys.path:\n",
    "    sys.path.append(str(BASE_DIR))\n",
    "\n",
    "os.environ.setdefault(\"DJANGO_SETTINGS_MODULE\", \"backend_site.settings\")\n",
    "\n",
    "django.setup()\n",
    "\n",
    "date_str = \"2025-06-24\"\n",
    "raw_data_folder = BASE_DIR / \"_no_git/fixtures/scipost/0_raw\"\n",
    "\n",
    "subsidies = pd.read_json(\n",
    "    str(raw_data_folder / f\"{date_str}_scipost_subsidies.json\")\n",
    ")\n",
    "payments = pd.read_json(\n",
    "    str(raw_data_folder / f\"{date_str}_scipost_payments.json\")\n",
    ")\n",
    "collectives = pd.read_json(\n",
    "    str(raw_data_folder / f\"{date_str}_scipost_collectives.json\")\n",
    ")\n",
    "\n",
    "\n",
    "from tsosi.data.preparation.scipost.data import (\n",
    "    prepare_data,\n",
    ")\n",
    "\n",
    "res = prepare_data(payments, subsidies, collectives)\n",
    "\n",
    "prepared_data_folder = BASE_DIR / \"_no_git/fixtures/scipost/4_processed\"\n",
    "dest_file = str(prepared_data_folder / f\"{date_str}_scipost_processed.json\")\n",
    "with open(dest_file, \"w\") as f:\n",
    "    res.to_json(\n",
    "        f,\n",
    "        orient=\"records\",\n",
    "        indent=2,\n",
    "    )\n",
    "\n",
    "print(f\"Prepared data dumped in {dest_file}\")"
   ]
  },
  {
   "cell_type": "code",
   "execution_count": null,
   "metadata": {},
   "outputs": [],
   "source": [
    "res"
   ]
  },
  {
   "cell_type": "markdown",
   "metadata": {},
   "source": [
    "### 5 - Generate TSOSI data file\n"
   ]
  },
  {
   "cell_type": "code",
   "execution_count": null,
   "metadata": {},
   "outputs": [],
   "source": [
    "from pathlib import Path\n",
    "import sys\n",
    "import os\n",
    "import django\n",
    "from datetime import date\n",
    "\n",
    "# Add the parent directory to the system path and setup django\n",
    "BASE_DIR = Path(os.getcwd()).resolve().parent.parent.parent.parent\n",
    "\n",
    "if str(BASE_DIR) not in sys.path:\n",
    "    sys.path.append(str(BASE_DIR))\n",
    "\n",
    "os.environ.setdefault(\"DJANGO_SETTINGS_MODULE\", \"backend_site.settings\")\n",
    "\n",
    "django.setup()\n",
    "\n",
    "from backend.tsosi.data.preparation.scipost.configs import get_file_config\n",
    "\n",
    "date_data = date(2025, 6, 24)\n",
    "date_str = date_data.strftime(\"%Y-%m-%d\")\n",
    "file_path = (\n",
    "    BASE_DIR\n",
    "    / f\"_no_git/fixtures/scipost/4_processed/{date_str}_scipost_processed.json\"\n",
    ")\n",
    "config = get_file_config(str(file_path), date_data)\n",
    "config.generate_data_file()"
   ]
  }
 ],
 "metadata": {
  "kernelspec": {
   "display_name": "tsosi-backend-py3.12",
   "language": "python",
   "name": "python3"
  },
  "language_info": {
   "codemirror_mode": {
    "name": "ipython",
    "version": 3
   },
   "file_extension": ".py",
   "mimetype": "text/x-python",
   "name": "python",
   "nbconvert_exporter": "python",
   "pygments_lexer": "ipython3",
   "version": "3.12.10"
  }
 },
 "nbformat": 4,
 "nbformat_minor": 2
}
