{
 "cells": [
  {
   "cell_type": "markdown",
   "metadata": {},
   "source": [
    "### 0 - Get SciPost data\n"
   ]
  },
  {
   "cell_type": "code",
   "execution_count": null,
   "metadata": {},
   "outputs": [],
   "source": [
    "from get_data import get_scipost_raw_data, enrich_scipost_raw_data\n",
    "from datetime import date\n",
    "from pathlib import Path\n",
    "\n",
    "today_str = date.today().strftime(\"%Y-%m-%d\")\n",
    "raw_data_file = f\"{today_str}_scipost_raw.json\"\n",
    "\n",
    "raw_data_folder = Path.home() / \"Nextcloud/TSOSI_data/scipost/0_raw\"\n",
    "\n",
    "raw_path = str(raw_data_folder / raw_data_file)\n",
    "get_scipost_raw_data(dest_file=raw_path)"
   ]
  },
  {
   "cell_type": "markdown",
   "metadata": {},
   "source": [
    "### 1 - Pre-process data\n"
   ]
  },
  {
   "cell_type": "code",
   "execution_count": null,
   "metadata": {},
   "outputs": [],
   "source": [
    "from get_data import pre_process_data\n",
    "from pathlib import Path\n",
    "import pandas as pd\n",
    "\n",
    "date_str = \"2025-03-05\"\n",
    "raw_file = f\"{date_str}_scipost_raw.json\"\n",
    "raw_folder = Path.home() / \"Nextcloud/TSOSI_data/scipost/0_raw\"\n",
    "raw_path = str(raw_folder / raw_file)\n",
    "\n",
    "processed_file = f\"{date_str}_scipost_pre_processed.json\"\n",
    "processed_folder = Path.home() / \"Nextcloud/TSOSI_data/scipost/1_pre_processed\"\n",
    "processed_path = str(processed_folder / processed_file)\n",
    "\n",
    "df = pd.read_json(raw_path, orient=\"records\")\n",
    "data = pre_process_data(df)\n",
    "data.to_json(processed_path, orient=\"records\", indent=2, index=False)"
   ]
  },
  {
   "cell_type": "markdown",
   "metadata": {},
   "source": [
    "### 3 - Enrich data with ROR ID\n"
   ]
  },
  {
   "cell_type": "code",
   "execution_count": null,
   "metadata": {},
   "outputs": [],
   "source": [
    "from pathlib import Path\n",
    "from get_data import enrich_scipost_raw_data\n",
    "\n",
    "date_str = \"2025-03-05\"\n",
    "input_data_file = f\"{date_str}_scipost_pre_processed.json\"\n",
    "enriched_data_file = f\"{date_str}_scipost_enriched.json\"\n",
    "\n",
    "input_data_folder = Path.home() / \"Nextcloud/TSOSI_data/scipost/1_pre_processed\"\n",
    "enriched_data_folder = Path.home() / \"Nextcloud/TSOSI_data/scipost/3_enriched\"\n",
    "\n",
    "input_path = str(input_data_folder / input_data_file)\n",
    "enriched_path = str(enriched_data_folder / enriched_data_file)\n",
    "enrich_scipost_raw_data(input_path, enriched_path)"
   ]
  },
  {
   "cell_type": "markdown",
   "metadata": {},
   "source": [
    "### 5 - Generate TSOSI data file\n"
   ]
  },
  {
   "cell_type": "code",
   "execution_count": null,
   "metadata": {},
   "outputs": [],
   "source": [
    "from pathlib import Path\n",
    "import sys\n",
    "import os\n",
    "import django\n",
    "from datetime import date\n",
    "\n",
    "# Add the parent directory to the system path and setup django\n",
    "BASE_DIR = str(Path(os.getcwd()).resolve().parent.parent.parent.parent)\n",
    "\n",
    "if BASE_DIR not in sys.path:\n",
    "    sys.path.append(BASE_DIR)\n",
    "\n",
    "os.environ.setdefault(\"DJANGO_SETTINGS_MODULE\", \"backend_site.settings\")\n",
    "\n",
    "django.setup()\n",
    "\n",
    "from tsosi.data.preparation.scipost.default import get_config\n",
    "\n",
    "date_data = date(2025, 3, 5)\n",
    "file_path = (\n",
    "    Path.home()\n",
    "    / \"Nextcloud/TSOSI_data/scipost/3_enriched/2025-03-05_scipost_enriched.json\"\n",
    ")\n",
    "config = get_config(str(file_path), date_data)\n",
    "config.generate_data_file()"
   ]
  }
 ],
 "metadata": {
  "kernelspec": {
   "display_name": ".venv",
   "language": "python",
   "name": "python3"
  },
  "language_info": {
   "codemirror_mode": {
    "name": "ipython",
    "version": 3
   },
   "file_extension": ".py",
   "mimetype": "text/x-python",
   "name": "python",
   "nbconvert_exporter": "python",
   "pygments_lexer": "ipython3",
   "version": "3.12.3"
  }
 },
 "nbformat": 4,
 "nbformat_minor": 2
}
