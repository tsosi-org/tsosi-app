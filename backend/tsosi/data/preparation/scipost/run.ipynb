{
 "cells": [
  {
   "cell_type": "code",
   "execution_count": null,
   "metadata": {},
   "outputs": [],
   "source": [
    "from get_data import get_scipost_raw_data, enrich_scipost_raw_data\n",
    "from datetime import date\n",
    "\n",
    "today_str = date.today().strftime(\"%Y-%m-%d\")\n",
    "raw_data_file = f\"{today_str}-scipost_raw_data.json\"\n",
    "enriched_data_file = f\"{today_str}-scipost_enriched_data.json\"\n",
    "\n",
    "get_scipost_raw_data(dest_file=raw_data_file)\n",
    "enrich_scipost_raw_data(raw_data_file, enriched_data_file)"
   ]
  }
 ],
 "metadata": {
  "kernelspec": {
   "display_name": "venv",
   "language": "python",
   "name": "python3"
  },
  "language_info": {
   "codemirror_mode": {
    "name": "ipython",
    "version": 3
   },
   "file_extension": ".py",
   "mimetype": "text/x-python",
   "name": "python",
   "nbconvert_exporter": "python",
   "pygments_lexer": "ipython3",
   "version": "3.12.3"
  }
 },
 "nbformat": 4,
 "nbformat_minor": 2
}
