{
 "cells": [
  {
   "cell_type": "code",
   "execution_count": null,
   "metadata": {},
   "outputs": [],
   "source": [
    "from pathlib import Path\n",
    "import sys\n",
    "import os\n",
    "import django\n",
    "from asgiref.sync import sync_to_async\n",
    "import pandas as pd\n",
    "\n",
    "# Add the parent directory to the system path and setup django\n",
    "BASE_DIR = str(Path(os.getcwd()).resolve().parent.parent)\n",
    "\n",
    "if BASE_DIR not in sys.path:\n",
    "    sys.path.append(BASE_DIR)\n",
    "\n",
    "os.environ.setdefault(\"DJANGO_SETTINGS_MODULE\", \"backend_site.settings\")\n",
    "\n",
    "django.setup()\n",
    "\n",
    "\n",
    "@sync_to_async\n",
    "def to_run():\n",
    "    return\n",
    "\n",
    "\n",
    "res = await to_run()"
   ]
  },
  {
   "cell_type": "code",
   "execution_count": null,
   "metadata": {},
   "outputs": [],
   "source": [
    "res"
   ]
  },
  {
   "cell_type": "code",
   "execution_count": null,
   "metadata": {},
   "outputs": [],
   "source": [
    "import pandas as pd\n",
    "\n",
    "df = pd.DataFrame(\n",
    "    data=[\n",
    "        [\"First_1\", \"First_2\", \"First_3\"],\n",
    "        [None, \"Second_2\", \"Second_3\"],\n",
    "        [None, None, \"Third_3\"],\n",
    "        [\"Fourth_1\", None, None],\n",
    "        [None, \"Fifth_2\", None],\n",
    "    ],\n",
    "    columns=[\"name_1\", \"name_2\", \"name_3\"],\n",
    ")\n",
    "res = df[[\"name_2\", \"name_1\", \"name_3\"]].bfill(axis=1)\n",
    "for row in df.iterrows():\n",
    "    pass\n",
    "res"
   ]
  }
 ],
 "metadata": {
  "kernelspec": {
   "display_name": ".venv",
   "language": "python",
   "name": "python3"
  },
  "language_info": {
   "codemirror_mode": {
    "name": "ipython",
    "version": 3
   },
   "file_extension": ".py",
   "mimetype": "text/x-python",
   "name": "python",
   "nbconvert_exporter": "python",
   "pygments_lexer": "ipython3",
   "version": "3.12.3"
  }
 },
 "nbformat": 4,
 "nbformat_minor": 2
}
