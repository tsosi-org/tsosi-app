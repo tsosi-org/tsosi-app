{
 "cells": [
  {
   "cell_type": "markdown",
   "metadata": {},
   "source": [
    "## Add coordinates to country file\n"
   ]
  },
  {
   "cell_type": "code",
   "execution_count": null,
   "metadata": {},
   "outputs": [],
   "source": [
    "import pandas as pd\n",
    "import os\n",
    "from pathlib import Path\n",
    "\n",
    "additional_coordinates = {\n",
    "    \"hk\": [\n",
    "        114.177216,\n",
    "        22.302711,\n",
    "    ],  # Hong kong\n",
    "    \"xk\": [\n",
    "        21.166191,\n",
    "        42.667542,\n",
    "    ],  # Kosovo\n",
    "    \"mo\": [\n",
    "        113.552971,\n",
    "        22.210928,\n",
    "    ],  # Macau\n",
    "    \"tw\": [\n",
    "        121.597366,\n",
    "        25.105497,\n",
    "    ],  # Taiwan\n",
    "    \"eh\": [\n",
    "        -13.162500,\n",
    "        27.125286,\n",
    "    ],  # Western Sahara\n",
    "}\n",
    "BASE_DIR = Path(os.getcwd()).resolve().parent.parent.parent\n",
    "\n",
    "FRONTEND_DATA_DIR = BASE_DIR / \"frontend/src/assets/data\"\n",
    "FRONTEND_STATIC_DIR = BASE_DIR / \"frontend/public/static_data\"\n",
    "\n",
    "country_file = FRONTEND_DATA_DIR / \"country.json\"\n",
    "\n",
    "centroids_file = FRONTEND_DATA_DIR / \"country_centroids.geojson\"\n",
    "\n",
    "countries = pd.read_json(country_file)\n",
    "centroids = pd.read_json(centroids_file)\n",
    "\n",
    "centroids = pd.json_normalize(centroids[\"features\"])\n",
    "# Filter problematic entities - The ones with a toplevel ISO corresponding\n",
    "# to a child entity.\n",
    "mask = (\n",
    "    centroids[\"properties.COUNTRY\"] != centroids[\"properties.COUNTRYAFF\"]\n",
    ") & (centroids[\"properties.ISO\"] == centroids[\"properties.AFF_ISO\"])\n",
    "centroids = centroids[~mask].copy()\n",
    "\n",
    "cols = {\"properties.ISO\": \"code\", \"geometry.coordinates\": \"coordinates\"}\n",
    "centroids = centroids[cols.keys()].rename(columns=cols)\n",
    "\n",
    "centroids[\"code\"] = centroids[\"code\"].str.lower()\n",
    "\n",
    "manual_centroids = pd.DataFrame(\n",
    "    [{\"code\": k, \"coordinates\": v} for k, v in additional_coordinates.items()]\n",
    ")\n",
    "centroids = pd.concat(\n",
    "    [\n",
    "        centroids,\n",
    "        manual_centroids[~manual_centroids[\"code\"].isin(centroids[\"code\"])],\n",
    "    ],\n",
    "    axis=0,\n",
    ")\n",
    "countries = countries.merge(centroids, on=\"code\", how=\"left\")\n",
    "\n",
    "output_file = FRONTEND_STATIC_DIR / \"country.json\"\n",
    "countries.to_json(output_file, orient=\"records\", index=False, indent=2)"
   ]
  }
 ],
 "metadata": {
  "kernelspec": {
   "display_name": ".venv",
   "language": "python",
   "name": "python3"
  },
  "language_info": {
   "name": "python",
   "version": "3.12.3"
  }
 },
 "nbformat": 4,
 "nbformat_minor": 2
}
